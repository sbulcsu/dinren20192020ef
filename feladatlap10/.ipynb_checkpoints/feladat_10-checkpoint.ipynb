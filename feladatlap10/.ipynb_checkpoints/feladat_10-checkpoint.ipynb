{
 "cells": [
  {
   "cell_type": "markdown",
   "metadata": {},
   "source": [
    "# Dinamikai rendszerek 2019/2020 EF\n",
    "\n",
    "\n",
    "# #10 Feladatlap\n",
    "------\n",
    "\n",
    "## Külalak, formázás  (10 pont)  \n",
    "\n",
    "## 10.1 Feladat (50+20 pont)\n",
    "----\n",
    "\n",
    "\n",
    "Adott a van der Pol oszcillátort leíró dinamikai rendszer:\n",
    "$$\n",
    "\\begin{align}\n",
    "\\dot{x}&=y\\\\\n",
    "\\dot{y}&=\\mu(1-x^2)y-x.\n",
    "\\end{align}\n",
    "$$\n",
    "A $\\mu$ egy valós paraméter. Jelen feladatban $\\mu>>1$ ($\\mu\\approx 10,100$). A feladatot a `DynamicalSystems` csomag felhasználásával kell megoldani!  \n",
    "\n",
    "\n",
    "**a)** Definiáljunk egy, a fenti egyenletekkel egyenértékű  folytonos dinamikai rendszert (`ContinuousDynamicalSystem`)! (*10 pont*)"
   ]
  },
  {
   "cell_type": "code",
   "execution_count": null,
   "metadata": {},
   "outputs": [],
   "source": []
  },
  {
   "cell_type": "markdown",
   "metadata": {},
   "source": [
    "**b)** Ábrázoljuk az $x(t)$ és $y(t)$ idősorokat legalább 25 időegységig felhasználva a `trajectory` függvényt! (*10 pont*)"
   ]
  },
  {
   "cell_type": "code",
   "execution_count": null,
   "metadata": {},
   "outputs": [],
   "source": []
  },
  {
   "cell_type": "markdown",
   "metadata": {},
   "source": [
    "**c)** Elhanyagolva a kezdeti átmeneti időt becsüljük meg numerikusan a kialakuló oszcilláció periódusát! (*10 pont*)  \n",
    "(*TIPP*: használjuk a `trajectory` függvény `Ttr` paraméterét)"
   ]
  },
  {
   "cell_type": "code",
   "execution_count": null,
   "metadata": {},
   "outputs": [],
   "source": []
  },
  {
   "cell_type": "markdown",
   "metadata": {},
   "source": [
    "**d)** Ábrázoljuk a rendeszer fázisportréját több trajektóriát felhasználva! (*20 pont*)"
   ]
  },
  {
   "cell_type": "code",
   "execution_count": null,
   "metadata": {},
   "outputs": [],
   "source": []
  },
  {
   "cell_type": "markdown",
   "metadata": {},
   "source": [
    "**SZORGALMI 1:** Készítsünk egy animációt (GIF-et) a fázispont mozgásáról, amint az a stabil határcikluson halad körbe a fázistérben. (*20 pont*)"
   ]
  },
  {
   "cell_type": "code",
   "execution_count": null,
   "metadata": {},
   "outputs": [],
   "source": []
  },
  {
   "cell_type": "markdown",
   "metadata": {},
   "source": [
    "---\n",
    "---"
   ]
  },
  {
   "cell_type": "markdown",
   "metadata": {},
   "source": [
    "## 10.2 Feladat (40 pont)\n",
    "----"
   ]
  },
  {
   "cell_type": "markdown",
   "metadata": {},
   "source": [
    "Adott a következő kétdimenziós dinamikai rendszer:\n",
    "$$\n",
    "\\begin{align}\n",
    "\\dot{x}&=\\mu x-x^3-bx^2y-xy^2-\\omega y-by^3\\\\\n",
    "\\dot{y}&=bx^3+\\omega x-x^2y+bxy^2+\\mu y-y^3.\n",
    "\\end{align}\n",
    "$$\n",
    "$\\mu,\\,\\omega,\\,b$ valós paraméterek. A feladatok megoldására használjuk a `DynamicalSystems` csomagot!\n",
    "\n",
    "\n",
    "**a)** Definiáljunk egy, a fenti egyenletekkel egyenértékű  folytonos dinamikai rendszert (`ContinuousDynamicalSystem`)! (*10 pont*)"
   ]
  },
  {
   "cell_type": "code",
   "execution_count": null,
   "metadata": {},
   "outputs": [],
   "source": []
  },
  {
   "cell_type": "markdown",
   "metadata": {},
   "source": [
    "**b)** Készítsük el a rendszer fázisportréját abban az esetben amikor $\\mu<0$! (*15 pont*)"
   ]
  },
  {
   "cell_type": "code",
   "execution_count": null,
   "metadata": {},
   "outputs": [],
   "source": []
  },
  {
   "cell_type": "markdown",
   "metadata": {},
   "source": [
    "**c)** Készítsük el a rendszer fázisportréját abban az esetben amikor $\\mu>0$! (*15 pont*)"
   ]
  },
  {
   "cell_type": "code",
   "execution_count": null,
   "metadata": {},
   "outputs": [],
   "source": []
  }
 ],
 "metadata": {
  "kernelspec": {
   "display_name": "Julia 1.0.5",
   "language": "julia",
   "name": "julia-1.0"
  },
  "language_info": {
   "file_extension": ".jl",
   "mimetype": "application/julia",
   "name": "julia",
   "version": "1.0.5"
  }
 },
 "nbformat": 4,
 "nbformat_minor": 2
}
