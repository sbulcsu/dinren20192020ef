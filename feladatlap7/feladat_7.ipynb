{
 "cells": [
  {
   "cell_type": "markdown",
   "metadata": {},
   "source": [
    "# Dinamikai rendszerek 2019/2020 EF\n",
    "\n",
    "\n",
    "# #7 Feladatlap\n",
    "------\n",
    "\n",
    "## Külalak, formázás  (10 pont)  \n",
    "\n",
    "## 7.1 Feladat (90 pont)\n",
    "----"
   ]
  },
  {
   "cell_type": "markdown",
   "metadata": {},
   "source": [
    "Adott a következő kétdimenziós dinamikai rendszer:\n",
    "$$\n",
    "\\begin{align}\n",
    "\\dot{x}&=x(1-x^2-y^2)-y\\\\\n",
    "\\dot{y}&=y(1-x^2-y^2)+x.\n",
    "\\end{align}\n",
    "$$\n",
    "A rendszernek a (0,0) fixponton kívűl egy határciklusa is van.\n",
    "\n",
    "\n",
    "**a)** Oldjuk meg a differenciálegyenlet-rendszert 50 véletlenszerű kezdeti állapotra és ábrázoljuk egy grafikonon az $x(t)$ idősorokat! (*35 pont*)"
   ]
  },
  {
   "cell_type": "code",
   "execution_count": null,
   "metadata": {},
   "outputs": [],
   "source": []
  },
  {
   "cell_type": "markdown",
   "metadata": {},
   "source": [
    "**b)** Készítsük el a rendszer fázisportréját megoldva 100 kezdeti állapotra a fenti rendszert! (*30 pont*)"
   ]
  },
  {
   "cell_type": "code",
   "execution_count": null,
   "metadata": {},
   "outputs": [],
   "source": []
  },
  {
   "cell_type": "markdown",
   "metadata": {},
   "source": [
    "**c)** Becsüljük meg a határcikluson végbemenő oszcilláció periódusát, felhasználva egy idősor maximumai/minimumai között eltelt időt! (*25 pont*)"
   ]
  },
  {
   "cell_type": "code",
   "execution_count": null,
   "metadata": {},
   "outputs": [],
   "source": []
  },
  {
   "cell_type": "markdown",
   "metadata": {},
   "source": [
    "----\n",
    "----\n",
    "\n",
    "\n",
    "## 7.2 Feladat$^*$ (30 pont)  \n",
    "----"
   ]
  },
  {
   "cell_type": "markdown",
   "metadata": {},
   "source": [
    "Adott a következő kétdimenziós dinamikai rendszer:\n",
    "$$\n",
    "\\begin{align}\n",
    "\\dot{x}&=x(x^2+y^2-1)-y\\\\\n",
    "\\dot{y}&=y(x^2+y^2-1)+x.\n",
    "\\end{align}\n",
    "$$\n",
    "A rendszernek a (0,0) fixponton kívűl egy határciklusa is van.\n",
    "\n",
    "**a)** Oldjuk meg a differenciálegyenlet-rendszert 50 véletlenszerű kezdeti állapotra és ábrázoljuk egy grafikonon az $x(t)$ idősorokat! (*15 pont*)"
   ]
  },
  {
   "cell_type": "code",
   "execution_count": null,
   "metadata": {},
   "outputs": [],
   "source": []
  },
  {
   "cell_type": "markdown",
   "metadata": {},
   "source": [
    "**b)** Készítsük el a rendszer fázisportréját megoldva 100 kezdeti állapotra a fenti rendszert! (*15 pont*)"
   ]
  },
  {
   "cell_type": "code",
   "execution_count": null,
   "metadata": {},
   "outputs": [],
   "source": []
  },
  {
   "cell_type": "markdown",
   "metadata": {},
   "source": [
    "$^*$ szorgalmi feladat,de könnyű."
   ]
  }
 ],
 "metadata": {
  "kernelspec": {
   "display_name": "Julia 1.0.5",
   "language": "julia",
   "name": "julia-1.0"
  },
  "language_info": {
   "file_extension": ".jl",
   "mimetype": "application/julia",
   "name": "julia",
   "version": "1.0.5"
  }
 },
 "nbformat": 4,
 "nbformat_minor": 2
}
