{
 "cells": [
  {
   "cell_type": "markdown",
   "metadata": {},
   "source": [
    "# Dinamikai rendszerek 2019/2020 EF"
   ]
  },
  {
   "cell_type": "markdown",
   "metadata": {},
   "source": [
    "# #1 Feladatlap\n",
    "------"
   ]
  },
  {
   "cell_type": "markdown",
   "metadata": {},
   "source": [
    "## 1.1 Feladat\n",
    "------"
   ]
  },
  {
   "cell_type": "markdown",
   "metadata": {},
   "source": [
    "Egy adott $ \\dot{x}=f(x) $ alakú egydimenziós dinamikai rendszer esetén az ismert módon ábrázolható a számegyenesen a rendszer fázisportréja. A feladat itt fordított: a fázisportré alapján kell megszerkeszteni a neki megfelelő egyenletet.\n",
    "* Az **1.** és **2.** ábrán látható fázisportré alapján adjunk meg egy-egy egyenletet, amely az ábrázolt fázisportéknak felel meg (fixpontok helye, sebesség előjele)!\n",
    "\n",
    "**1. ábra**\n",
    "![alt text](phase_portrait_1.jpg \"1. ábra\")\n",
    "***\n",
    "\n",
    "\n",
    "**2. ábra**\n",
    "![alt text](phase_portrait_2.jpg \"2. ábra\")\n",
    "***"
   ]
  },
  {
   "cell_type": "markdown",
   "metadata": {},
   "source": [
    "Az **1.** ábrához tartozó függvény definíciója (*x pont*):\n",
    "\n",
    "(*TIPP:* használd a `function` kulcsszót)"
   ]
  },
  {
   "cell_type": "code",
   "execution_count": null,
   "metadata": {},
   "outputs": [],
   "source": []
  },
  {
   "cell_type": "code",
   "execution_count": null,
   "metadata": {},
   "outputs": [],
   "source": []
  },
  {
   "cell_type": "markdown",
   "metadata": {},
   "source": [
    "Az **1.** ábrához tartozó függvény ábrázolása (*x pont*):\n",
    "\n",
    "(*TIPP:* szükség lesz a `Plots` csomagra. [Segítség](https://docs.juliaplots.org/latest/tutorial/))"
   ]
  },
  {
   "cell_type": "code",
   "execution_count": null,
   "metadata": {},
   "outputs": [],
   "source": []
  },
  {
   "cell_type": "code",
   "execution_count": null,
   "metadata": {},
   "outputs": [],
   "source": []
  },
  {
   "cell_type": "markdown",
   "metadata": {},
   "source": [
    "A **2.** ábrához tarozó függvény definíciója (*x pont*):"
   ]
  },
  {
   "cell_type": "code",
   "execution_count": null,
   "metadata": {},
   "outputs": [],
   "source": []
  },
  {
   "cell_type": "code",
   "execution_count": null,
   "metadata": {},
   "outputs": [],
   "source": []
  },
  {
   "cell_type": "markdown",
   "metadata": {},
   "source": [
    "A **2.** ábrához tartozó függvény ábrázolása (*x pont*):"
   ]
  },
  {
   "cell_type": "code",
   "execution_count": null,
   "metadata": {},
   "outputs": [],
   "source": []
  },
  {
   "cell_type": "code",
   "execution_count": null,
   "metadata": {},
   "outputs": [],
   "source": []
  },
  {
   "cell_type": "markdown",
   "metadata": {},
   "source": [
    "----\n",
    "----"
   ]
  },
  {
   "cell_type": "markdown",
   "metadata": {},
   "source": [
    "## 1.2 Feladat\n",
    "----"
   ]
  },
  {
   "cell_type": "markdown",
   "metadata": {},
   "source": [
    "Adott az alábbi:\n",
    "$$ x_{n+1}=4x_n(1-x_n) $$\n",
    "logisztikus leképezés, ahol $x$ egy 0 és 1 közötti valós szám, $n$ pedig egy természetes szám. \n",
    "\n",
    "* Definiáljunk egy függvényt, amely ennek a leképezésnek az első $n$ elemét számolja ki egy adott $x_0$ kezdetiértékről indulva! \n",
    "* Adjuk az $x_{10}$ értékét a következő kezdetiértékekre: $x_0=0.199$, $x_0=0.2$, $x_0=0.201$! Mit tapasztalunk?\n",
    "* Ábrázoljuk a fenti értékektől indulva az első 50 elemet egy grafikonon!"
   ]
  },
  {
   "cell_type": "markdown",
   "metadata": {},
   "source": [
    "A függvény definíciója (*x pont*):"
   ]
  },
  {
   "cell_type": "code",
   "execution_count": null,
   "metadata": {},
   "outputs": [],
   "source": []
  },
  {
   "cell_type": "code",
   "execution_count": null,
   "metadata": {},
   "outputs": [],
   "source": []
  },
  {
   "cell_type": "markdown",
   "metadata": {},
   "source": [
    "A tizedik elem kiszámítása három különböző kezdetiértékről (*x pont*):\n",
    "\n",
    "$x_0=0.199$"
   ]
  },
  {
   "cell_type": "code",
   "execution_count": null,
   "metadata": {},
   "outputs": [],
   "source": []
  },
  {
   "cell_type": "markdown",
   "metadata": {},
   "source": [
    "$x_0=0.2$"
   ]
  },
  {
   "cell_type": "code",
   "execution_count": null,
   "metadata": {},
   "outputs": [],
   "source": []
  },
  {
   "cell_type": "markdown",
   "metadata": {},
   "source": [
    "$x_0=0.201$"
   ]
  },
  {
   "cell_type": "code",
   "execution_count": null,
   "metadata": {},
   "outputs": [],
   "source": []
  },
  {
   "cell_type": "markdown",
   "metadata": {},
   "source": [
    "Mit veszünk észre?\n",
    "\n",
    "Válasz:"
   ]
  },
  {
   "cell_type": "markdown",
   "metadata": {},
   "source": []
  },
  {
   "cell_type": "markdown",
   "metadata": {},
   "source": [
    "Ábrázolás (*x pont*):\n",
    "\n",
    "(*TIPP:* használjuk a `plot!()` függvényt)"
   ]
  },
  {
   "cell_type": "code",
   "execution_count": null,
   "metadata": {},
   "outputs": [],
   "source": []
  },
  {
   "cell_type": "code",
   "execution_count": null,
   "metadata": {},
   "outputs": [],
   "source": []
  },
  {
   "cell_type": "markdown",
   "metadata": {},
   "source": [
    "----\n",
    "----"
   ]
  },
  {
   "cell_type": "markdown",
   "metadata": {},
   "source": [
    "## 1.3 Feladat\n",
    "----"
   ]
  },
  {
   "cell_type": "markdown",
   "metadata": {},
   "source": [
    "Adott az alábbi kezdetiérték feladat:\n",
    "$$ \\dot{x}=-x, \\quad x(0)=1. $$"
   ]
  },
  {
   "cell_type": "markdown",
   "metadata": {},
   "source": [
    "Ebben a feladatban az Euler-féle numerikus integrálási módszert fogjuk tesztelni a fenti egyenleten. Az Euler módszerról [itt](https://en.wikipedia.org/wiki/Euler_method) olvashattok többet.\n",
    "\n",
    "Röviden a módszer a keresett függvény $t+\\Delta t$ pillanatbeli értékét közelíti meg, sorbafejtve az $x(t+\\Delta t)$-t a lineáris tagig:\n",
    "$$ x(t+\\Delta t)= x(t)+f(x,t)\\Delta t,$$\n",
    "ahol $\\dot{x}=f(x,t)$.\n",
    "\n",
    "* Oldjuk meg a feladatot analitikusan! Mi a pontos értéke $x(1)$-nek?\n",
    "* Implementáljuk az Euler módszert! \n",
    "* Becsüljük meg $x(1)$-et numerikusan az Euler módszer segítségével különböző időlépésekkel (legyen ez $\\hat{x}(1)$)! Használjuk a $\\Delta t=\\{1,0.1,10^{-2},10^{-3},10^{-4}\\}$ értékeket!\n",
    "* Ábrázoljuk az $E=|\\hat{x}(1)-x(1)|$ abszolút hibát a $\\Delta t$ időlépés függvényében! Ábrázoljuk az eredményt log-log skálán is!"
   ]
  },
  {
   "cell_type": "markdown",
   "metadata": {},
   "source": [
    "Az $x(1)$ pontos$^*$ értéke:\n",
    "\n",
    "(*TIPP*: használd a Julia beépített függvényeit)\n",
    "\n",
    "$^*$*nyilván számítógépen számolva sosem lesz teljesen pontos, viszont vannak az Euler módszernél sokkal pontosabb módszerek is*"
   ]
  },
  {
   "cell_type": "code",
   "execution_count": null,
   "metadata": {},
   "outputs": [],
   "source": []
  },
  {
   "cell_type": "markdown",
   "metadata": {},
   "source": [
    "Az Euler módszer implementációja (*x pont*):"
   ]
  },
  {
   "cell_type": "code",
   "execution_count": null,
   "metadata": {},
   "outputs": [],
   "source": []
  },
  {
   "cell_type": "code",
   "execution_count": null,
   "metadata": {},
   "outputs": [],
   "source": []
  },
  {
   "cell_type": "code",
   "execution_count": null,
   "metadata": {},
   "outputs": [],
   "source": []
  },
  {
   "cell_type": "markdown",
   "metadata": {},
   "source": [
    "Az $\\hat{x}(1)$ kiszámítása. (*x pont*)\n",
    "\n",
    "$\\Delta t=1$"
   ]
  },
  {
   "cell_type": "code",
   "execution_count": null,
   "metadata": {},
   "outputs": [],
   "source": []
  },
  {
   "cell_type": "markdown",
   "metadata": {},
   "source": [
    "$\\Delta t=10^{-1}$"
   ]
  },
  {
   "cell_type": "code",
   "execution_count": null,
   "metadata": {},
   "outputs": [],
   "source": []
  },
  {
   "cell_type": "markdown",
   "metadata": {},
   "source": [
    "$\\Delta t=10^{-2}$\n"
   ]
  },
  {
   "cell_type": "code",
   "execution_count": null,
   "metadata": {},
   "outputs": [],
   "source": []
  },
  {
   "cell_type": "markdown",
   "metadata": {},
   "source": [
    "$\\Delta t=10^{-3}$"
   ]
  },
  {
   "cell_type": "code",
   "execution_count": null,
   "metadata": {},
   "outputs": [],
   "source": []
  },
  {
   "cell_type": "markdown",
   "metadata": {},
   "source": [
    "$\\Delta t=10^{-4}$"
   ]
  },
  {
   "cell_type": "code",
   "execution_count": null,
   "metadata": {},
   "outputs": [],
   "source": []
  },
  {
   "cell_type": "markdown",
   "metadata": {},
   "source": [
    "Az abszolút hiba ábrázolása normál és log-log skálán (*x pont*):"
   ]
  },
  {
   "cell_type": "code",
   "execution_count": null,
   "metadata": {},
   "outputs": [],
   "source": []
  },
  {
   "cell_type": "code",
   "execution_count": null,
   "metadata": {},
   "outputs": [],
   "source": []
  },
  {
   "cell_type": "code",
   "execution_count": null,
   "metadata": {},
   "outputs": [],
   "source": []
  }
 ],
 "metadata": {
  "kernelspec": {
   "display_name": "Julia 1.0.5",
   "language": "julia",
   "name": "julia-1.0"
  },
  "language_info": {
   "file_extension": ".jl",
   "mimetype": "application/julia",
   "name": "julia",
   "version": "1.0.5"
  }
 },
 "nbformat": 4,
 "nbformat_minor": 2
}
