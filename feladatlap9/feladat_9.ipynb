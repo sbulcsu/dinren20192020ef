{
 "cells": [
  {
   "cell_type": "markdown",
   "metadata": {},
   "source": [
    "# Dinamikai rendszerek 2019/2020 EF\n",
    "\n",
    "\n",
    "# #9 Feladatlap\n",
    "------\n",
    "\n",
    "## Külalak, formázás  (10 pont)  \n",
    "\n",
    "## 9.1 Feladat (50 pont)\n",
    "----\n",
    "\n",
    "\n",
    "Az sejtekben lejátszódó glikolízist az alábbi egyszerű dinamikai rendszerrel modellezhetjük:\n",
    "$$\n",
    "\\begin{align}\n",
    "\\dot{x}&=-x+ay+x^2y\\\\\n",
    "\\dot{y}&=b-ay-x^2y,\n",
    "\\end{align}\n",
    "$$\n",
    "ahol $a,b>0$ valós paraméterek. A továbbiakban legyen $a=0.08$ és $b=0.6$.  \n",
    "\n",
    "\n",
    "**a)** A rendszer két *nullcline*-nal rendelkezik. A nullcline egy olyan $y=f(x)$ alakú görbe amely mentén az $\\dot{x}$ vagy az $\\dot{y}$ nulla. Ábrázoljuk közös grafikonon a két görbét! (*15 pont*)"
   ]
  },
  {
   "cell_type": "code",
   "execution_count": null,
   "metadata": {},
   "outputs": [],
   "source": []
  },
  {
   "cell_type": "markdown",
   "metadata": {},
   "source": [
    "**b)** A fenti két nullcline négy részre osztja a fázisteret. Ábrázoljuk mind a négy régióból egy-egy pontban a  $\\overline{\\mathbf{v}}=(\\dot{x}(x,y),\\dot{y}(x,y))$ sebességvektort!   \n",
    "(*15 pont*)   \n",
    "(*TIPP*: Válasszunk egy pontot a régiókból. Számoljuk ki a deriváltak értékét a pontban. Ezek lesznek a vektor $x$ és $y$ komponensei. A négy koordinátát a `plot` segitségével ábrázolhatjuk. Lásd az `examples.ipynb` notebookot)"
   ]
  },
  {
   "cell_type": "code",
   "execution_count": null,
   "metadata": {},
   "outputs": [],
   "source": []
  },
  {
   "cell_type": "markdown",
   "metadata": {},
   "source": [
    "**c)** Készítsük el a rendszer fázisportréját! (*20 pont*)"
   ]
  },
  {
   "cell_type": "code",
   "execution_count": null,
   "metadata": {},
   "outputs": [],
   "source": []
  },
  {
   "cell_type": "markdown",
   "metadata": {},
   "source": [
    "----\n",
    "-----"
   ]
  },
  {
   "cell_type": "markdown",
   "metadata": {},
   "source": [
    "## 9.2 Feladat (40+40 pont)\n",
    "----\n",
    "\n",
    "\n",
    "Adott a van der Pol oszcillátort leíró dinamikai rendszer:\n",
    "$$\n",
    "\\begin{align}\n",
    "\\dot{x}&=y\\\\\n",
    "\\dot{y}&=\\mu(1-x^2)y-x.\n",
    "\\end{align}\n",
    "$$\n",
    "A $\\mu$ egy valós paraméter. Jelen feladatban $\\mu>>1$ ($\\mu\\approx 10,100$).\n",
    "\n",
    "\n",
    "**a)** Ábrázoljuk az $x(t)$ és $y(t)$ idősorokat legalább 25 időegységig! (*20 pont*)"
   ]
  },
  {
   "cell_type": "code",
   "execution_count": null,
   "metadata": {},
   "outputs": [],
   "source": []
  },
  {
   "cell_type": "markdown",
   "metadata": {},
   "source": [
    "**b)** Becsüljük meg numerikusan az állandó amplitudójú oszcilláció periódusát felhasználva a fenti idősorokat! (*20 pont*)"
   ]
  },
  {
   "cell_type": "code",
   "execution_count": null,
   "metadata": {},
   "outputs": [],
   "source": []
  },
  {
   "cell_type": "markdown",
   "metadata": {},
   "source": [
    "**SZORGALMI 1:** Készítsük el a rendszer fázisportréját! (*20 pont*)"
   ]
  },
  {
   "cell_type": "code",
   "execution_count": null,
   "metadata": {},
   "outputs": [],
   "source": []
  },
  {
   "cell_type": "markdown",
   "metadata": {},
   "source": [
    "**SZORGALMI 2:** Készítsünk egy animációt (GIF-et) a fázispont mozgásáról, amint az a stabil határcikluson halad körbe a fázistérben. (*20 pont*)  \n",
    "(*TIPP*: használjuk a `@gif` vagy az `@animate` makrókat. Lásd az `examples.ipynb` notebookot vagy itt:  [Animation-Plots](https://docs.juliaplots.org/latest/animations/#convenience-macros), [Plots-Examples](https://docs.juliaplots.org/latest/#simple-is-beautiful-1))"
   ]
  },
  {
   "cell_type": "code",
   "execution_count": null,
   "metadata": {},
   "outputs": [],
   "source": []
  }
 ],
 "metadata": {
  "kernelspec": {
   "display_name": "Julia 1.0.5",
   "language": "julia",
   "name": "julia-1.0"
  },
  "language_info": {
   "file_extension": ".jl",
   "mimetype": "application/julia",
   "name": "julia",
   "version": "1.0.5"
  }
 },
 "nbformat": 4,
 "nbformat_minor": 2
}
