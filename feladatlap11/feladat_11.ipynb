{
 "cells": [
  {
   "cell_type": "markdown",
   "metadata": {},
   "source": [
    "# Dinamikai rendszerek 2019/2020 EF\n",
    "\n",
    "\n",
    "# #11 Feladatlap\n",
    "------\n",
    "\n",
    "## Külalak, formázás  (10 pont)  \n",
    "\n",
    "## 11.1 Feladat (90 pont)\n",
    "----\n",
    "\n",
    "Adott a következő kétdimenziós dinamikai rendszer:\n",
    "$$\n",
    "\\begin{align}\n",
    "\\dot{x}&=\\mu x-y+xy^2\\\\\n",
    "\\dot{y}&=x+\\mu y+y^3,\n",
    "\\end{align}\n",
    "$$\n",
    "ahol $\\mu$ egy valós paraméter.  \n",
    "\n",
    "\n",
    "**a)** Ábrázoljuk az $\\dot{x}=0$ és $\\dot{y}=0$ nullcline-okat a $\\mu>0$ és $\\mu<0$ esetekben! A két esetet külön grafikonon ábrázoljuk! (*30 pont*)"
   ]
  },
  {
   "cell_type": "code",
   "execution_count": null,
   "metadata": {},
   "outputs": [],
   "source": []
  },
  {
   "cell_type": "markdown",
   "metadata": {},
   "source": [
    "**b)** Határozzuk meg analitikusan a fixpontokat és azok stabilitását a $\\mu>0$ és $\\mu<0$ esetekben! (*30\n",
    "pont*)"
   ]
  },
  {
   "cell_type": "code",
   "execution_count": null,
   "metadata": {},
   "outputs": [],
   "source": []
  },
  {
   "cell_type": "markdown",
   "metadata": {},
   "source": [
    "**c)** Készítsük el a rendszer fázisportéját a $\\mu>0$ és $\\mu<0$ esetekben! Jelöljük külön a fixpontokat (lásd az [#1 Feladatlap/1.1/b,d](https://nbviewer.jupyter.org/github/sbulcsu/dinren20192020ef/blob/master/feladatlap1/feladat_1_megoldas.ipynb#1.1-Feladat--(30-pont)) alpont megoldását) és a határciklusokat (stabil-folytonos, instabil-szaggatott görbe; használjunk más színt, mint a trajektóriák esetén)! (*30 pont*)  \n",
    "(*TIPP 1*: az instabil határciklusokat úgy ábrázolhatjuk, hogy megváltoztatjuk az idő előjelét az egyenletekben és úgy oldjuk meg őket)  \n",
    "(*TIPP 2*:`dt<dt_min` hiba esetén csökkentsük az időintervallum hosszát amire megoldjuk a rendszert; `tspan` vagy `T` )"
   ]
  },
  {
   "cell_type": "code",
   "execution_count": null,
   "metadata": {},
   "outputs": [],
   "source": []
  },
  {
   "cell_type": "markdown",
   "metadata": {},
   "source": [
    "## 11.2 Feladat (+30 pont)\n",
    "----\n",
    "\n",
    "Adott a következő, radiális koordinátákban megadott, kétdimenziós dinamikai rendszer:\n",
    "$$\n",
    "\\begin{align}\n",
    "\\dot{r}&=\\mu r+r^3-r^5\\\\\n",
    "\\dot{\\theta}&=\\omega+ br^2,\n",
    "\\end{align}\n",
    "$$\n",
    "$\\mu,\\,\\omega$ és $b$ valós paraméterek. \n",
    "\n",
    "\n",
    "**a)** Alakítsuk át az egyenleteket Descartes-féle koordintákba ($x,y$)!  (*10 pont*)"
   ]
  },
  {
   "cell_type": "code",
   "execution_count": null,
   "metadata": {},
   "outputs": [],
   "source": []
  },
  {
   "cell_type": "markdown",
   "metadata": {},
   "source": [
    "**b)** Készítsük el a rendszer fázisportéját a $\\mu>0$ és $\\mu<0$ esetekben! Jelöljük külön a fixpontokat és a határciklusokat! (20 pont)"
   ]
  },
  {
   "cell_type": "code",
   "execution_count": null,
   "metadata": {},
   "outputs": [],
   "source": []
  },
  {
   "cell_type": "markdown",
   "metadata": {},
   "source": [
    "## 11.3 Feladat (+40 pont)\n",
    "----\n",
    "\n",
    "Adott az alábbi, Lorenz rendszer néven ismert, háromdimenziós dinamikai rendszer:\n",
    "$$\n",
    "\\begin{align}\n",
    "\\dot{x}&=\\sigma(y-x)\\\\\n",
    "\\dot{y}&=rx-y-xz\\\\\n",
    "\\dot{z}&=xy-bz,\n",
    "\\end{align}\n",
    "$$\n",
    "ahol $\\sigma,\\,r,\\,b$ valós paraméterek.\n",
    "\n",
    "**a)** Legyen $\\sigma=10,\\, r=28$ és $b=8/3$! Ábrázoljuk 3 dimenzióban a rendszer kaotikus attraktorát az adott paraméterekre!  (*10 pont*)  \n",
    "(*TIPP*: hanyagoljuk el a kezdeti tranziens szakaszt)"
   ]
  },
  {
   "cell_type": "code",
   "execution_count": null,
   "metadata": {},
   "outputs": [],
   "source": []
  },
  {
   "cell_type": "markdown",
   "metadata": {},
   "source": [
    "**b)** Tekintsünk két, egymáshoz közeli kezdeti állapotot a fázistérben: ($x_{1_0},y_{1_0},z_{1_0}$) és ($x_{2_0},y_{2_0},z_{2_0}$)! Ábrázoljuk közös grafikonon az $y_1(t)$ és $y_2(t)$ idősorokat! Példa: $(x_{2_0},y_{2_0},z_{2_0})=\\left(x_{1_0}+10^{-5},y_{2_0}+10^{-5},z_{2_0}+10^{-5}\\right)$ (*10 pont*)"
   ]
  },
  {
   "cell_type": "code",
   "execution_count": null,
   "metadata": {},
   "outputs": [],
   "source": []
  },
  {
   "cell_type": "markdown",
   "metadata": {},
   "source": [
    "**c)** Abrázoljuk idő függvényében a fenti két kezdetiállapotból kiinduló trajektória közötti euklideszi távolságot: $d=\\sqrt{(x_1-x_2)^2+(y_1-y_2)^2+(z_1-z_2)^2}$!  (*20 pont*)"
   ]
  },
  {
   "cell_type": "code",
   "execution_count": null,
   "metadata": {},
   "outputs": [],
   "source": []
  }
 ],
 "metadata": {
  "kernelspec": {
   "display_name": "Julia 1.0.5",
   "language": "julia",
   "name": "julia-1.0"
  },
  "language_info": {
   "file_extension": ".jl",
   "mimetype": "application/julia",
   "name": "julia",
   "version": "1.0.5"
  }
 },
 "nbformat": 4,
 "nbformat_minor": 2
}
