{
 "cells": [
  {
   "cell_type": "markdown",
   "metadata": {},
   "source": [
    "# Dinamikai rendszerek 2019/2020 EF\n",
    "\n",
    "\n",
    "# #12 Feladatlap\n",
    "------\n",
    "\n",
    "## Külalak, formázás  (10 pont)  \n",
    "\n",
    "## 12.1 Feladat (90 + 20 pont)\n",
    "----\n",
    "\n",
    "\n",
    "Adott az alábbi, Rössler rendszer néven ismert háromdimenziós dinamikai rendszer:\n",
    "$$\n",
    "\\begin{align}\n",
    "\\dot{x}&=-y-z\\\\\n",
    "\\dot{y}&=x+ay\\\\\n",
    "\\dot{z}&=b+z(x-c),\n",
    "\\end{align}\n",
    "$$\n",
    "ahol $a,b,c$ valós paraméterek. Több információt a Rössler rendszerről [itt](http://www.scholarpedia.org/article/Rossler_attractor) és [itt](https://en.wikipedia.org/wiki/R%C3%B6ssler_attractor) találtok.\n",
    "\n",
    "**a)** Definiáljunk egy, a fenti egyenletekkel egyenértékű folytonos dinamikai rendszert (`ContinuousDynamicalSystem`)! Legyen $a=0.25,~b=2,~c=4$! (*10 pont*)"
   ]
  },
  {
   "cell_type": "code",
   "execution_count": null,
   "metadata": {},
   "outputs": [],
   "source": []
  },
  {
   "cell_type": "markdown",
   "metadata": {},
   "source": [
    "**b)** Ábrázoljuk a rendszer attraktorát a háromdimenziós fázistértben a fenti paraméterekre! (*20 pont*)    \n",
    "(*TIPP*:használjuk a `trajectory` függvényt és a `Ttr` paraméter segítségével hanyagoljuk el a tranziens szakaszt)"
   ]
  },
  {
   "cell_type": "code",
   "execution_count": null,
   "metadata": {},
   "outputs": [],
   "source": []
  },
  {
   "cell_type": "markdown",
   "metadata": {},
   "source": [
    "**c)** Legyen $a=0.35$! Ábrázoljuk a megjelenő attraktort a fentihez hasonló módon! (*20 pont*)"
   ]
  },
  {
   "cell_type": "code",
   "execution_count": null,
   "metadata": {},
   "outputs": [],
   "source": []
  },
  {
   "cell_type": "markdown",
   "metadata": {},
   "source": [
    "**d)** Legyen $a=0.432$! Ábrázoljuk a megjelenő attraktort a fentihez hasonló módon! (*20 pont*)"
   ]
  },
  {
   "cell_type": "code",
   "execution_count": null,
   "metadata": {},
   "outputs": [],
   "source": []
  },
  {
   "cell_type": "markdown",
   "metadata": {},
   "source": [
    "**e)** Az $a$ paramétert folytonosan változtatva a $[0.2,0.55]$ intervallumon készítsük el a rendszer bifurkációs diagrammját használva a `produce_orbitdiagram` függvényt! Az eredmény ehhez hasonló kell legyen: [link](http://www.scholarpedia.org/article/File:Rosbif.jpg) (*20 pont*)   \n",
    "[Példa1]()\n",
    "[Példa2](https://juliadynamics.github.io/DynamicalSystems.jl/latest/chaos/orbitdiagram/#ChaosTools.produce_orbitdiagram)"
   ]
  },
  {
   "cell_type": "code",
   "execution_count": null,
   "metadata": {},
   "outputs": [],
   "source": []
  },
  {
   "cell_type": "markdown",
   "metadata": {},
   "source": [
    "**SZORGALMI:** készítsünk egy GIF-et amelyen a **d)** alpontban ábrázolt attraktor forog körbe! Valahogy [így](http://www.scholarpedia.org/article/File:Rossler-3Dview.gif) (*20 pont*)"
   ]
  },
  {
   "cell_type": "code",
   "execution_count": null,
   "metadata": {},
   "outputs": [],
   "source": []
  }
 ],
 "metadata": {
  "kernelspec": {
   "display_name": "Julia 1.0.5",
   "language": "julia",
   "name": "julia-1.0"
  },
  "language_info": {
   "file_extension": ".jl",
   "mimetype": "application/julia",
   "name": "julia",
   "version": "1.0.5"
  }
 },
 "nbformat": 4,
 "nbformat_minor": 2
}
