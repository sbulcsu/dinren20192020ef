{
 "cells": [
  {
   "cell_type": "markdown",
   "metadata": {},
   "source": [
    "# Dinamikai rendszerek 2019/2020 EF"
   ]
  },
  {
   "cell_type": "markdown",
   "metadata": {},
   "source": [
    "# #4 Feladatlap\n",
    "------"
   ]
  },
  {
   "cell_type": "markdown",
   "metadata": {},
   "source": [
    "## Külalak, formázás  (10 pont)  \n",
    "\n",
    "## 4.1 Feladat (65 + 40 pont)\n",
    "----"
   ]
  },
  {
   "cell_type": "markdown",
   "metadata": {},
   "source": [
    "Egy csillapított nemlineáris oszcillátor egyenletét a következőképpen adhatjuk meg:  \n",
    "$$\\ddot{x}=-\\alpha x-\\beta x^3 -\\gamma\\dot{x}, $$\n",
    "melyet átírhatunk kétdimenziós dinamikai rendszer formájában is:\n",
    "$$ \\begin{align*}\n",
    "\\dot{x}&=y\\\\\n",
    "\\dot{y}&=-\\alpha x-\\beta x^3 -\\delta y.\n",
    "\\end{align*}\n",
    "$$\n",
    "Az alábbi különböző esetekben keressük meg a fixpontokat, határozzuk meg a fajtájukat és stabilitásukat a paraméterek függvényében! A számításokat **analatikusan és numerikusan** is végezzük el! Oldjuk meg minden esetben a rendszert, használva a `DifferentialEquatons` csomagot és ábrázoljunk több (~200-300) trajektóriát is a fázistérben!   \n",
    "(*TIPP*: lineáris rendszer esetén csak a (0,0) fixpont létezik)  \n",
    "\n",
    "**a)** A rendszert megadó kétdimenziós függvény implementációja   \n",
    "**b)** $\\alpha>0,~\\beta=0,~\\delta>0$; Analitikus+numerikus számítás, a differenciálegyenlet megoldása, ábrázolás.      \n",
    "**c)** $\\alpha>0,~\\beta=0,~\\delta<0$; Analitikus+numerikus számítás, a differenciálegyenlet megoldása, ábrázolás.   \n",
    "**d)** $\\alpha<0,~\\beta=0,~\\delta>0$; Analitikus+numerikus számítás, a differenciálegyenlet megoldása, ábrázolás.   \n",
    "**e)** $\\alpha<0,~\\beta=0,~\\delta<0$; Analitikus+numerikus számítás, a differenciálegyenlet megoldása, ábrázolás.   \n",
    "**SZORGALMI 1:** $\\alpha>0,~\\beta>0,~\\delta>0$; Analitikus+numerikus számítás, a differenciálegyenlet megoldása, ábrázolás.   \n",
    "**SZORGALMI 2:** $\\alpha<0,~\\beta>0,~\\delta>0$; Analitikus+numerikus számítás, a differenciálegyenlet megoldása, ábrázolás.   \n",
    "\n",
    "\n",
    "**a)** A rendszert megadó kétdimenziós függvény implementációja. Használjunk in-place függvényt (`funcion!`), hogy gyorsabb legyen az egyenlet megoldása (**lásd** `examples.ipynb` **2019/10/22 \"Többdimenziós rendszer\" rész**). Az $\\alpha,~\\beta,~\\delta$ paraméterek legyenek általánosak, hogy ne kelljen minden alpontnál újradefiniálni a függvényt! (*5 pont*)\n",
    "\n"
   ]
  },
  {
   "cell_type": "code",
   "execution_count": null,
   "metadata": {},
   "outputs": [],
   "source": []
  },
  {
   "cell_type": "markdown",
   "metadata": {},
   "source": [
    " **b)** $\\alpha>0,~\\beta=0,~\\delta>0$; Analitikus  + numerikus számítás + a differenciálegyenlet megoldása, ábrázolás. (*15=5+5+5 pont*)"
   ]
  },
  {
   "cell_type": "markdown",
   "metadata": {},
   "source": [
    "Analitikus megoldás (*Enter lenyomása után szerkeszthető, vagy képet is lehet beszúrni*):"
   ]
  },
  {
   "cell_type": "code",
   "execution_count": null,
   "metadata": {},
   "outputs": [],
   "source": []
  },
  {
   "cell_type": "markdown",
   "metadata": {},
   "source": [
    "**c)** $\\alpha>0,~\\beta=0,~\\delta<0$; Analitikus  + numerikus számítás + a differenciálegyenlet megoldása, ábrázolás. (*15=5+5+5 pont*)"
   ]
  },
  {
   "cell_type": "markdown",
   "metadata": {},
   "source": [
    "Analitikus megoldás:"
   ]
  },
  {
   "cell_type": "code",
   "execution_count": null,
   "metadata": {},
   "outputs": [],
   "source": []
  },
  {
   "cell_type": "markdown",
   "metadata": {},
   "source": [
    "**d)** $\\alpha<0,~\\beta=0,~\\delta>0$; Analitikus  + numerikus számítás + a differenciálegyenlet megoldása, ábrázolás. (*15=5+5+5 pont*)"
   ]
  },
  {
   "cell_type": "markdown",
   "metadata": {},
   "source": [
    "Analitikus megoldás:"
   ]
  },
  {
   "cell_type": "code",
   "execution_count": null,
   "metadata": {},
   "outputs": [],
   "source": []
  },
  {
   "cell_type": "markdown",
   "metadata": {},
   "source": [
    "**e)** $\\alpha<0,~\\beta=0,~\\delta<0$; Analitikus  + numerikus számítás + a differenciálegyenlet megoldása, ábrázolás. (*15=5+5+5 pont*)"
   ]
  },
  {
   "cell_type": "markdown",
   "metadata": {},
   "source": [
    "Analitikus megoldás:"
   ]
  },
  {
   "cell_type": "code",
   "execution_count": null,
   "metadata": {},
   "outputs": [],
   "source": []
  },
  {
   "cell_type": "markdown",
   "metadata": {},
   "source": [
    "**SZORGALMI 1:** $\\alpha>0,~\\beta>0,~\\delta>0$; Analitikus  + numerikus számítás + a differenciálegyenlet megoldása, ábrázolás. (*20=10+5+5 pont*)"
   ]
  },
  {
   "cell_type": "markdown",
   "metadata": {},
   "source": [
    "Analitikus megoldás:"
   ]
  },
  {
   "cell_type": "code",
   "execution_count": null,
   "metadata": {},
   "outputs": [],
   "source": []
  },
  {
   "cell_type": "markdown",
   "metadata": {},
   "source": [
    "**SZORGALMI 2:** $\\alpha<0,~\\beta>0,~\\delta>0$; Analitikus  + numerikus számítás + a differenciálegyenlet megoldása, ábrázolás. (*20=10+5+5 pont*)"
   ]
  },
  {
   "cell_type": "markdown",
   "metadata": {},
   "source": [
    "Analitikus megoldás:"
   ]
  },
  {
   "cell_type": "code",
   "execution_count": null,
   "metadata": {},
   "outputs": [],
   "source": []
  },
  {
   "cell_type": "markdown",
   "metadata": {},
   "source": [
    "----\n",
    "----"
   ]
  },
  {
   "cell_type": "markdown",
   "metadata": {},
   "source": [
    "## 4.2 Feladat (25 pont)\n",
    "----\n",
    "\n",
    "Az alábbi kétdimenziós dinamikai rendszer két, egy előhelyen élő és ugyanazt a táplálékot fogyasztó faj populációdinamikáját írja le (Lotka-Volterra modell):\n",
    "$$\n",
    "\\begin{align*}\n",
    "\\dot{x}&=x(3-x-2y)\\\\\n",
    "\\dot{y}&=y(2-x-y),\n",
    "\\end{align*}\n",
    "$$\n",
    "ahol $x,~y$ nemnegatív valós számok.  \n",
    "Tanulmányozzuk a rendszer viselkedését úgy, hogy több véletlenszerű kezdetiérték párt tekintve megoldjuk a rendszert!\n",
    "\n",
    "**a)** Implementáljunk egy olyan függvényt, mely a fenti rendszer jobb oldalával egyenértékű!  \n",
    "**b)** A DifferentialEquations csomagot használva definiáljunk egy a modellel egyenértékű `ODEProblem`-et!  \n",
    "**c)** Oldjuk meg a rendszert 300 kezdeti állapotra és közös grafikonon ábrázoljuk a trajektóriákat!\n",
    "\n",
    "**a)** Implementáljunk egy olyan függvényt (in-place), mely a fenti rendszer jobb oldalával egyenértékű! (*5 pont*)"
   ]
  },
  {
   "cell_type": "code",
   "execution_count": null,
   "metadata": {},
   "outputs": [],
   "source": []
  },
  {
   "cell_type": "markdown",
   "metadata": {},
   "source": [
    "**b)** A DifferentialEquations csomagot használva definiáljunk egy a modellel egyenértékű `ODEProblem`-et! (*10 pont*)"
   ]
  },
  {
   "cell_type": "code",
   "execution_count": null,
   "metadata": {},
   "outputs": [],
   "source": []
  },
  {
   "cell_type": "markdown",
   "metadata": {},
   "source": [
    "**c)** Oldjuk meg a rendszert 300 kezdeti állapotra és közös grafikonon ábrázoljuk a trajektóriákat! (*15 pont*)"
   ]
  },
  {
   "cell_type": "code",
   "execution_count": null,
   "metadata": {},
   "outputs": [],
   "source": []
  }
 ],
 "metadata": {
  "@webio": {
   "lastCommId": null,
   "lastKernelId": null
  },
  "kernelspec": {
   "display_name": "Julia 1.0.5",
   "language": "julia",
   "name": "julia-1.0"
  },
  "language_info": {
   "file_extension": ".jl",
   "mimetype": "application/julia",
   "name": "julia",
   "version": "1.0.5"
  }
 },
 "nbformat": 4,
 "nbformat_minor": 2
}
