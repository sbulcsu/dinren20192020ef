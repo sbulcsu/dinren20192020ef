{
 "cells": [
  {
   "cell_type": "markdown",
   "metadata": {},
   "source": [
    "# Dinamikai rendszerek 2019/2020 EF\n",
    "\n",
    "\n",
    "# #6 Feladatlap\n",
    "------\n",
    "\n",
    "## Külalak, formázás  (10 pont)  \n",
    "\n",
    "## 6.1 Feladat (90 pont)\n",
    "----"
   ]
  },
  {
   "cell_type": "markdown",
   "metadata": {},
   "source": [
    "Adott az alábbi kétdimenziós dinamikai rendszer:\n",
    "$$\n",
    "\\begin{align}\n",
    "\\dot{x}&=y\\\\\n",
    "\\dot{y}&=-\\gamma y-\\frac{\\mathrm{d}V(x)}{\\mathrm{d}x},\n",
    "\\end{align}\n",
    "$$\n",
    "ahol a pontenciál alakja a következő:\n",
    "$$\n",
    "V(x)=\\tanh \\left(\\frac{(x-x_1)^2}{z_1^2}\\right)\\tanh\\left(\\frac{(x-x_2)^2}{z_2^2}\\right).\n",
    "$$\n",
    "A pontenciál minimumai $x_1,~x_2$. A paraméterek $x_1=1,~x_2=-2,~z_1=2,~z_2=4,~\\gamma=1$.  \n",
    "\n",
    " \n",
    "  \n",
    "  \n",
    " \n",
    "\n",
    "  \n"
   ]
  },
  {
   "cell_type": "markdown",
   "metadata": {},
   "source": [
    "**a)** Ábrázoljuk a potenciált az $x$ függvényében! (*10 pont*)"
   ]
  },
  {
   "cell_type": "code",
   "execution_count": null,
   "metadata": {},
   "outputs": [],
   "source": []
  },
  {
   "cell_type": "markdown",
   "metadata": {},
   "source": [
    "**b)** Deriváljuk $x$ szerint a potenciált és ábrázoljuk az eredményt $x$ függvényében! (*10 pont*)"
   ]
  },
  {
   "cell_type": "code",
   "execution_count": null,
   "metadata": {},
   "outputs": [],
   "source": []
  },
  {
   "cell_type": "markdown",
   "metadata": {},
   "source": [
    "**c)** Rajzoljuk fel a rendszer fázisportréját, megoldva a rendszert 100 tetszőleges kezdeti állapot felhasználásával! (*10 pont*)"
   ]
  },
  {
   "cell_type": "code",
   "execution_count": null,
   "metadata": {},
   "outputs": [],
   "source": []
  },
  {
   "cell_type": "markdown",
   "metadata": {},
   "source": [
    "**d)** Tekintsünk négyzetrácson elhelyezkedő kezedeti állapotokat a $[1,2]\\times[-2,-1]$ tartományból! Ábrázoljuk a pontokat! (`scatter`) (*10 pont*)"
   ]
  },
  {
   "cell_type": "code",
   "execution_count": null,
   "metadata": {},
   "outputs": [],
   "source": []
  },
  {
   "cell_type": "markdown",
   "metadata": {},
   "source": [
    "**e)** Oldjuk meg a rendszert a **d)** alpontban definiált pontokból kiindulva és egységnyi időként ábrázoljuk a pontokat így kimutatva a fázistér kontrakcióját!  (*20 pont*)"
   ]
  },
  {
   "cell_type": "code",
   "execution_count": null,
   "metadata": {},
   "outputs": [],
   "source": []
  },
  {
   "cell_type": "markdown",
   "metadata": {},
   "source": [
    "**f)** Definiáljunk egy `main_VezeteknevKeresztnev` nevű függvényt, amely a fenti négyetrácsból kiindulva megoldja a rendszert tetszőleges pontossággal és az **e)** alponthoz hasonlóan ábrát is készít amennyiben a felhasználó azt kívánja. Optimalizáljuk a függvényt, hogy minél gyorsabban végezze el a feladatot! (`BenchmarkTools`)  (*30 pont*)  \n",
    "\n",
    "\n",
    "* A függvény bemeneti paraméterei:\n",
    "    - `tol`-pontosság, tolerancia; ez adja meg az eredményünk pontosságát. Mindegyik pontra kiszámítjuk a sebességet a fázistérben ($v=\\sqrt{f_1^2(x,y)+f_2^2(x,y)}$) és ezt átlagoljuk az összes pontra. Amennyiben a megadott mennyiség alá esik a sebességek átlaga kilépünk.  \n",
    "    - `graph`-`Bool` típusú változó(`true`/`false`). Ha `true` akkor ábrát is visszatérít a függvény, ellenkező esetben nem.  \n",
    "* Amit a függvény visszatérít:  \n",
    "    * `X` - az x koordináták  \n",
    "    * `Y` - az y koordináták\n",
    "    * `V` - a sebességek\n",
    "    * `t` - az időintervallum hossza amire futtattunk\n",
    "    * `pl`- (opcionális) az ábra   \n",
    "    \n",
    "    \n",
    "**Akinek a leggyorsabban fut le a függvény az értékes pluszpontokra számíthat!**\n",
    "\n",
    "\n"
   ]
  },
  {
   "cell_type": "code",
   "execution_count": null,
   "metadata": {},
   "outputs": [],
   "source": []
  }
 ],
 "metadata": {
  "kernelspec": {
   "display_name": "Julia 1.0.5",
   "language": "julia",
   "name": "julia-1.0"
  },
  "language_info": {
   "file_extension": ".jl",
   "mimetype": "application/julia",
   "name": "julia",
   "version": "1.0.5"
  }
 },
 "nbformat": 4,
 "nbformat_minor": 2
}
