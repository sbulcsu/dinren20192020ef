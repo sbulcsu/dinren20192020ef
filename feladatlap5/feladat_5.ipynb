{
 "cells": [
  {
   "cell_type": "markdown",
   "metadata": {},
   "source": [
    "# Dinamikai rendszerek 2019/2020 EF\n",
    "\n",
    "\n",
    "# #5 Feladatlap\n",
    "------\n",
    "\n",
    "## Külalak, formázás  (10 pont)  \n",
    "\n",
    "## 5.1 Feladat (55 pont)\n",
    "----"
   ]
  },
  {
   "cell_type": "markdown",
   "metadata": {},
   "source": [
    "Az alábbi egyenlet egy nemlineáris oszcillátor egyenlete:\n",
    "$$\\ddot{x}=\\alpha x-\\beta x^3 -\\gamma\\dot{x}. $$\n",
    "Kiiktatva a súrlódást ($\\gamma$=0) egy konzervatív rendszert kapunk, melyet egy kétdimenziós dinamikai rendszer formájában írunk fel:\n",
    "$$ \\begin{align}\\tag{1}\\label{eq.1}\n",
    "\\dot{x}&=y\\\\\n",
    "\\dot{y}&=\\alpha x-\\beta x^3.\n",
    "\\end{align}\n",
    "$$\n",
    "A továbbiakban legyen $\\alpha=\\beta=1$.\n",
    "\n",
    "**a)** Igazoljuk hogy a $\\eqref{eq.1}$ rendszer visszavezethető egy a $\\ddot{x}+\\frac{dV}{dx}=0$ egyenlettel leírható rendszerre! Adjuk meg a $V(x)$ potenicál alakját! (*10 pont*)  "
   ]
  },
  {
   "cell_type": "markdown",
   "metadata": {},
   "source": [
    "Ide lehet beírni, beilleszteni a megoldást:"
   ]
  },
  {
   "cell_type": "markdown",
   "metadata": {},
   "source": [
    "**b)**  \n",
    "<img style=\"float: left;\" src=\"konz2.png\" title=\"A rendszer fázisportéja\">\n",
    "\n",
    "A fenti konzervatív rendszer vázlatos fázisportréja a mellékelt ábra szerint alakul.  \n",
    "\n",
    "\n",
    "Keressük meg analitikusan azokat az $x$ értékeket amlyek alatti értékekből kiindulva (megfelelő $y_0$ párral) az $x$ nem vált előjelet. Másképpen mondva: keressük meg azokat az $x$ értékeket, ahol a (0,0) nyeregpontból kiinduló trajektóriák metszik az $x$ tengelyt! (10 pont)  \n",
    "(*TIPP*: használjuk a teljes energiát (kinetikus+potenciális energia) )\n"
   ]
  },
  {
   "cell_type": "markdown",
   "metadata": {},
   "source": [
    "Ide lehet beírni, beilleszteni a megoldást:\n"
   ]
  },
  {
   "cell_type": "markdown",
   "metadata": {},
   "source": [
    "**c)** Készítsük el numerikusan a rendszer fázisportréját! ($\\alpha=\\beta=1$) (*10 pont*)"
   ]
  },
  {
   "cell_type": "code",
   "execution_count": null,
   "metadata": {},
   "outputs": [],
   "source": []
  },
  {
   "cell_type": "markdown",
   "metadata": {},
   "source": [
    "**d)** Számítsuk ki a teljes energiát 5 tetszőleges trajektória mentén! Ábrázoljuk a teljes energiát az idő függvényében!  ($\\alpha=\\beta=1$) Mit veszünk észre? (*10 pont*)  \n",
    "(*TIPP*: használjuk a `solve`  függvényben a `saveat` opciót)"
   ]
  },
  {
   "cell_type": "code",
   "execution_count": null,
   "metadata": {},
   "outputs": [],
   "source": []
  },
  {
   "cell_type": "markdown",
   "metadata": {},
   "source": [
    "**e)** Ábrázoljuk a (0,0) nyeregpontból kiinduló és oda viszatérő trajektóriákat!  \n",
    "(*TIPP*: használjuk fel a nyeregponthoz tartozó sajátvektorokat) (*15 pont*)"
   ]
  },
  {
   "cell_type": "code",
   "execution_count": null,
   "metadata": {},
   "outputs": [],
   "source": []
  },
  {
   "cell_type": "markdown",
   "metadata": {},
   "source": [
    "---\n",
    "---"
   ]
  },
  {
   "cell_type": "markdown",
   "metadata": {},
   "source": [
    "## 5.2 Feladat (35+20 pont)\n",
    "----"
   ]
  },
  {
   "cell_type": "markdown",
   "metadata": {},
   "source": [
    "Egy anyagi pont egydimenziós gödrös felületen való mozgását az alábbi egyenlettel írhatjuk le:\n",
    "$$ \\ddot{x}=-\\gamma\\dot{x}-A\\sin(x),$$\n",
    "ahol a felület egyenetlenségeit egy $V(x)=-A\\cos(x)$ potenciálfelület írja le, figyelembe véve, hogy: $\\ddot{x}=-\\gamma\\dot{x}-\\frac{dV}{dx}$. Kétdimenziós rendszerként az alábbi alakban írhatjuk fel:\n",
    "$$ \\begin{align}\n",
    "\\dot{x}&=y\\\\\n",
    "\\dot{y}&=-\\gamma y-A\\sin(x).\n",
    "\\end{align}\n",
    "$$\n",
    "A továbbiakan legyen $\\gamma=0.1$ és $A=1$.\n",
    "\n",
    "**a)** Keressük meg **analitikusan** a fixpontokat, linearizáljuk a fixpontok körül a rendszert és határozzuk meg a fixpontok stabilitását! (*10 pont*)"
   ]
  },
  {
   "cell_type": "markdown",
   "metadata": {},
   "source": [
    "Ide lehet beírni, beilleszteni a megoldást:"
   ]
  },
  {
   "cell_type": "markdown",
   "metadata": {},
   "source": [
    "**b)** Határozzuk meg **numerikusan** a fixpontokhoz tartozó sajátértékeket és sajátvektorokat! (*15 pont*)"
   ]
  },
  {
   "cell_type": "code",
   "execution_count": null,
   "metadata": {},
   "outputs": [],
   "source": []
  },
  {
   "cell_type": "markdown",
   "metadata": {},
   "source": [
    "**c)** Készítsük el a rendszer fázisportréját 100, $x_0\\in[-3\\pi,3\\pi]$ kezdeti értéket felhasználva! (*10 pont*)"
   ]
  },
  {
   "cell_type": "code",
   "execution_count": null,
   "metadata": {},
   "outputs": [],
   "source": []
  },
  {
   "cell_type": "markdown",
   "metadata": {},
   "source": [
    "**SZORGALMI:** Ábrázoljuk a (0,0) stabil fixpont vonzási tartományát! (*20 pont*)   \n",
    "(*TIPP*: a nyeregpontok stabil sokaságai határolják a vonzási tartományokat; két ilyen görbe között minden trajektória a stabil fixpontba jut. Ábrázoljuk a stabil sokaságokat és a köztük levő trajektóriákat)"
   ]
  },
  {
   "cell_type": "code",
   "execution_count": null,
   "metadata": {},
   "outputs": [],
   "source": []
  }
 ],
 "metadata": {
  "kernelspec": {
   "display_name": "Julia 1.0.5",
   "language": "julia",
   "name": "julia-1.0"
  },
  "language_info": {
   "file_extension": ".jl",
   "mimetype": "application/julia",
   "name": "julia",
   "version": "1.0.5"
  }
 },
 "nbformat": 4,
 "nbformat_minor": 2
}
