{
 "cells": [
  {
   "cell_type": "markdown",
   "metadata": {},
   "source": [
    "# Dinamikai rendszerek 2019/2020 EF"
   ]
  },
  {
   "cell_type": "markdown",
   "metadata": {},
   "source": [
    "# #3 Feladatlap\n",
    "------"
   ]
  },
  {
   "cell_type": "markdown",
   "metadata": {},
   "source": [
    "## Külalak, formázás  (10 pont)  \n",
    "## 3.0 Feladat (0 pont)\n",
    "----  \n",
    "Ismerkedés a `DifferentialEquations` csomaggal. Ez a Julia differenciálegyenletek megoldására kifejlesztett csomagja. [Bővebb információ ]. Első használat előtt telepíteni kell használva a `Pkg`-t, utána elegendő a `using`. További példák az `examples.ipynb` notebookban. \n",
    "\n",
    "[Bővebb információ ]:http://docs.juliadiffeq.org/latest/tutorials/ode_example.html\n",
    "\n",
    "----\n",
    "----\n",
    "## 3.1 Feladat  (40 + 20 pont)\n",
    "------"
   ]
  },
  {
   "cell_type": "markdown",
   "metadata": {},
   "source": [
    "Rovarkitörések modellezése (Ludwig et al. 1978).  \n",
    "A jelenséget leíró egyimenziós dinamikai rendszer adimenzionális alakja a következő:\n",
    "$$ \\frac{\\mathrm{d}x}{\\mathrm{d}\\tau}=rx\\left(1-\\frac{x}{k}\\right)-\\frac{x^2}{1+x^2}, $$\n",
    "ahol $r$ és $k$ dimenzió nélküli növekedési ráta illetve eltartóképesség.  \n",
    "**a)** Implementáljuk a rendszer numerikus megoldását a már jól ismert Euler-módszer segítségével! Teszteljük tetszőleges $x_0$, $r$ és $k$ esetére!  \n",
    "**b)** Tekintsünk 20 véletlenszerű $x_0$ kezdeti értéket a $(0,5]$ intervallumból. Oldjuk meg a rendszert ezekre a kezdeti értékekre három esetben: $r=\\{0.1,0.4,0.7\\}$, miközben $k=20$. Ábrázoljuk a három eset $x(t)$ idősorait külön grafikonon (3 grafikon, mindegyiken 20 görbe)!  \n",
    "**c)** Használva `DifferentialEquations` csomagot definiáljunk egy, a fenti differenciálegyenlettel egyenértékű `ODEProblem`-et!  Oldjuk meg a rendszert az **a)** pontban használt értékekre!  \n",
    "**d)** Ismételjük meg a **b)** alpontban leírtakat használva a `DifferentialEquations` csomagot!  \n",
    "\n",
    "\n",
    "**SZORGALMI:** Az eredeti modell értelmében a paraméterek lassan változhatnak. Helyettesítsük az $r$ paramétert egy időben lassan növekvő függvénnyel! Kiindulva így egy 0 közeli $r$ értékből oldjuk meg a differenciálegyenletet több kezdeti állapotra és elég hosszú időre amíg be nem következik a rovarkitörés! Ábrázoljuk is az idősorokat! Bármelyik módszer használható.\n"
   ]
  },
  {
   "cell_type": "markdown",
   "metadata": {},
   "source": [
    "**a)** Az Euler módszer módszer implementációja és tesztelése (*10 pont*):"
   ]
  },
  {
   "cell_type": "code",
   "execution_count": null,
   "metadata": {},
   "outputs": [],
   "source": []
  },
  {
   "cell_type": "markdown",
   "metadata": {},
   "source": [
    "**b)** Az egyenlet megoldása 20 tetszőleges kezdeti értékre és az idősorok ábrázolása (*10 pont*)  \n",
    "$r=0.1$:"
   ]
  },
  {
   "cell_type": "code",
   "execution_count": null,
   "metadata": {},
   "outputs": [],
   "source": []
  },
  {
   "cell_type": "markdown",
   "metadata": {},
   "source": [
    "$r=0.4$:"
   ]
  },
  {
   "cell_type": "code",
   "execution_count": null,
   "metadata": {},
   "outputs": [],
   "source": []
  },
  {
   "cell_type": "markdown",
   "metadata": {},
   "source": [
    "$r=0.7$:"
   ]
  },
  {
   "cell_type": "code",
   "execution_count": null,
   "metadata": {},
   "outputs": [],
   "source": []
  },
  {
   "cell_type": "markdown",
   "metadata": {},
   "source": [
    "**c)** A `DifferentialEquations` csomag használata és tesztelése (*10 pont*):"
   ]
  },
  {
   "cell_type": "code",
   "execution_count": null,
   "metadata": {},
   "outputs": [],
   "source": []
  },
  {
   "cell_type": "markdown",
   "metadata": {},
   "source": [
    "**d)** Az egyenlet megoldása 20 tetszőleges kezdeti értékre és az idősorok ábrázolása (*10 pont*)  \n",
    "(*TIPP*: használjuk a `remake` függvényt)  \n",
    "$r=0.1$:"
   ]
  },
  {
   "cell_type": "code",
   "execution_count": null,
   "metadata": {},
   "outputs": [],
   "source": []
  },
  {
   "cell_type": "markdown",
   "metadata": {},
   "source": [
    "$r=0.4$:"
   ]
  },
  {
   "cell_type": "code",
   "execution_count": null,
   "metadata": {},
   "outputs": [],
   "source": []
  },
  {
   "cell_type": "markdown",
   "metadata": {},
   "source": [
    "$r=0.7$:"
   ]
  },
  {
   "cell_type": "code",
   "execution_count": null,
   "metadata": {},
   "outputs": [],
   "source": []
  },
  {
   "cell_type": "markdown",
   "metadata": {},
   "source": [
    "**SZORGALMI**   \n",
    "Oldjuk meg a differenciálegyenletet folyamatosan változtatva az $r$ paramétert és mutassuk ki grafikusan a kitörést! (*20 pont*)"
   ]
  },
  {
   "cell_type": "code",
   "execution_count": null,
   "metadata": {},
   "outputs": [],
   "source": []
  },
  {
   "cell_type": "markdown",
   "metadata": {},
   "source": [
    "----\n",
    "----"
   ]
  },
  {
   "cell_type": "markdown",
   "metadata": {},
   "source": [
    "## 3.2 Feladat  (50 pont)\n",
    "----\n",
    "\n",
    "A csillapított harmonikus rezgés egyenlete:\n",
    "$$ m\\ddot{x}=-\\gamma\\dot{x}-kx, $$\n",
    "ahol $m$ a rezgő test tömege, $\\gamma$ a csillapítási tényező és $k$ a rugó rugalmassági állandója. A fenti egyenletet átírhatjuk kétdimenziós adimenzionális dinamikai rendszer formájába a kövekezőképpen:\n",
    "$$ \\begin{align} \\frac{\\mathrm{d}\\chi}{\\mathrm{d}\\tau} & =\\psi \\\\\n",
    "\\frac{\\mathrm{d}\\psi}{\\mathrm{d}\\tau} & = -\\alpha\\psi - \\chi,\n",
    "\\end{align}$$\n",
    "ahol $\\chi$ az adimenzionális elmozdulás, $\\psi$ az adimenzionális sebesség, $\\tau$ az adimenzionlális idő és az $\\alpha=\\frac{\\gamma}{\\sqrt{mk}}$ az adimenzionális csillapítás mértékét adja meg.  \n",
    "**a)** Mutassuk ki, hogy a fenti alak valóban az eredeti rendszer adimenzionális alakját adja meg!  \n",
    "**b)** Implementáljuk a rendszer numerikus megoldását az Euler-módszer segítségével! Teszteljük tetszőleges kezdeti állapotra és paraméterre!  \n",
    "**c)** Oldjuk meg a rendszert 5 véletlenszerű $\\{\\chi_0,\\psi_0\\}\\in[-2.5,2.5]\\times[-2.5,2.5]$ kezdetiértékekre. Ábrázoljuk az 5 $\\chi(\\tau)$ és $\\psi(\\tau)$ idősort két külön grafikonon. (Két ábra, 5-5 görbével, csak a kezdetiértékeket változtatjuk, a paramétereket nem)  \n",
    "**d)** Ábrázoljunk 10 tetszőleges trajektóriát a $\\chi-\\psi$ fázistérben! ($\\psi(\\chi)$ görbéket kell plottolni)  \n",
    "**e)** Használva `DifferentialEquations` csomagot definiáljunk egy, a fenti differenciálegyenlettel egyenértékű `ODEProbplem`-et!  Oldjuk meg a rendszert az **b)** pontban használt értékekre!  \n",
    "**f)** Ismételjük meg a **d)** alpontban leírtakat használva a `DifferentialEquations` csomagot!"
   ]
  },
  {
   "cell_type": "markdown",
   "metadata": {},
   "source": [
    "**a)** Mutassuk ki, hogy a fenti alak valóban az eredeti rendszer adimenzionális alakját adja meg! (*5 pont*)  \n",
    "(*TIPP*: használhattok [LaTeX]-et vagy beszúrhattok képet is - [útmutató], a kép ugyanebben a mappában kell legyen)\n",
    "\n",
    "[útmutató]:https://github.com/adam-p/markdown-here/wiki/Markdown-Cheatsheet#images\n",
    "[LaTeX]:https://math.meta.stackexchange.com/questions/5020/mathjax-basic-tutorial-and-quick-reference"
   ]
  },
  {
   "cell_type": "markdown",
   "metadata": {},
   "source": [
    "Ebbe a cellába lehetírni vagy képet beszúrni az `Enter` gomb lenyomása után:"
   ]
  },
  {
   "cell_type": "markdown",
   "metadata": {},
   "source": [
    "**b)** Az Euler módszer módszer implementációja és tesztelése (*10 pont*):"
   ]
  },
  {
   "cell_type": "code",
   "execution_count": null,
   "metadata": {},
   "outputs": [],
   "source": []
  },
  {
   "cell_type": "markdown",
   "metadata": {},
   "source": [
    "**c)** A rendszer megoldása 5 véletlenszerű kezdetiállapotra és az idősorok ábrázolása (*10 pont*):"
   ]
  },
  {
   "cell_type": "code",
   "execution_count": null,
   "metadata": {},
   "outputs": [],
   "source": []
  },
  {
   "cell_type": "markdown",
   "metadata": {},
   "source": [
    "**d)** Tíz tetszőleges trajektória ábrázolása (*10 pont*):"
   ]
  },
  {
   "cell_type": "code",
   "execution_count": null,
   "metadata": {},
   "outputs": [],
   "source": []
  },
  {
   "cell_type": "markdown",
   "metadata": {},
   "source": [
    "**e)** A `DifferentialEquations` csomag használata és tesztelése a fenti rendszerre (*15 pont*):  \n",
    "(*TIPP*: lehetőleg használjunk in-place (`pelda_fuggveny!`) függvényeket)"
   ]
  },
  {
   "cell_type": "code",
   "execution_count": null,
   "metadata": {},
   "outputs": [],
   "source": []
  },
  {
   "cell_type": "markdown",
   "metadata": {},
   "source": [
    "**f)** Tíz tetszőleges trajektória ábrázolása a `DifferentialEquations` csomaggal(*10 pont*):"
   ]
  },
  {
   "cell_type": "code",
   "execution_count": null,
   "metadata": {},
   "outputs": [],
   "source": []
  }
 ],
 "metadata": {
  "kernelspec": {
   "display_name": "Julia 1.0.5",
   "language": "julia",
   "name": "julia-1.0"
  },
  "language_info": {
   "file_extension": ".jl",
   "mimetype": "application/julia",
   "name": "julia",
   "version": "1.0.5"
  }
 },
 "nbformat": 4,
 "nbformat_minor": 2
}
