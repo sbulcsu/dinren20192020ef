{
 "cells": [
  {
   "cell_type": "markdown",
   "metadata": {},
   "source": [
    "## Dinamikai rendszerek 2019/2020 EF - Projektek"
   ]
  },
  {
   "cell_type": "markdown",
   "metadata": {},
   "source": [
    "### 0. Szabadon választott dinamikai rendszer vizsgálata (szimuláció/analitikus számolás, 100/80/60 pont)\n",
    "\n",
    "**Megjegyzés:** \n",
    "* előzetes egyeztetés alapján választható \n",
    "* nehézségi szint megegyezés alapján"
   ]
  },
  {
   "cell_type": "markdown",
   "metadata": {},
   "source": [
    "### 1. Kuramoto oszcillátorok: kiválasztási idő (szimuláció, 80 pont)\n",
    "\n",
    "[Dénes, K., Sándor, B., & Néda, Z. (2019). ON THE PREDICTABILITY OF THE FINAL STATE IN A RING OF KURAMOTO ROTATORS. Romanian Reports in Physics, 71(108), 1–8.](http://www.rrp.infim.ro/2019/AN71108.pdf)\n",
    "\n",
    "**Feladat:** Fig. 3 ábra reprodukálása"
   ]
  },
  {
   "cell_type": "markdown",
   "metadata": {},
   "source": [
    "### 2. Kuramoto oszcillátorok: fixpontok (analítikus számolás, 100 pont)"
   ]
  },
  {
   "cell_type": "markdown",
   "metadata": {},
   "source": [
    "[Dénes, K., Sándor, B., & Néda, Z. (2019). Pattern selection in a ring of Kuramoto oscillators. Communications in Nonlinear Science and Numerical Simulation, 78, 104868](https://arxiv.org/pdf/1801.03028.pdf)\n",
    "\n",
    "**Feladat:** \n",
    "\n",
    "* (17), (18), (25), (30), (34), (35) összefüggések igazolása\n",
    "* általánosíŧani $k$ szomszéddal való csatolás esetére - (a) típusú állapotok stabilitásának vizsgálata"
   ]
  },
  {
   "cell_type": "markdown",
   "metadata": {},
   "source": [
    "### 3. Kuramoto oszcillátorok: (numerikus szimuláció, 80 pont)\n",
    "\n",
    "[Dénes, K., Sándor, B., & Néda, Z. (2019). Pattern selection in a ring of Kuramoto oscillators. Communications in Nonlinear Science and Numerical Simulation, 78, 104868](https://arxiv.org/pdf/1801.03028.pdf)\n",
    "\n",
    "**Feladat:** Fig. 4 ábra reprodukálása"
   ]
  },
  {
   "cell_type": "markdown",
   "metadata": {},
   "source": [
    "### 4. Kuramoto oszcillátorok: (numerikus szimuláció, 100 pont)\n",
    "\n",
    "[Dénes, K., Sándor, B., & Néda, Z. (2019). Pattern selection in a ring of Kuramoto oscillators. Communications in Nonlinear Science and Numerical Simulation, 78, 104868](https://arxiv.org/pdf/1801.03028.pdf)\n",
    "\n",
    "**Feladat:** Fig. 10 ábra bal oldali grafikonjának reprodukálása (elegendő kisebb felbontással)"
   ]
  },
  {
   "cell_type": "markdown",
   "metadata": {},
   "source": [
    "### 5. Kuramoto oszcillátorok: kiméra állapotok (numerikus szimuláció, 100 pont)\n",
    "\n",
    "[Wolfrum, M., & Omel’chenko, O. E. (2011). Chimera states are chaotic transients. Physical Review E, 84(1), 015201.](https://www.researchgate.net/profile/Oleh_Omelchenko/publication/51595487_Chimera_states_are_chaotic_transients/links/552d34a70cf29b22c9c4c417/Chimera-states-are-chaotic-transients.pdf?_sg%5B0%5D=KVbE-MY1scWpNUBTD2bMmPEdiqUo7vDW_vKs2q3YPFsl_bx41rJ5yWYmSuJNM2_nZ9XCJPAXfB_GD23msZvoEg.6BoTjG1aR5rQhvZSDmF6Su2Z7wNBy-RwqiPxsz5yhRRFUj5hJpUY12J0WjrvuuPwy3H6Q1sVw1Jg0GPYv-Ri2w&_sg%5B1%5D=Kk8u11V3vUfGlVA4HeOSirfzZtlDeoCMeP4fGOMVwoU8MC6jEiBJA1Z8z4b8luQxpTxk21Vk8qoqi2OnwCiszEyU_T9qzM590yAsUwG3jFTZ.6BoTjG1aR5rQhvZSDmF6Su2Z7wNBy-RwqiPxsz5yhRRFUj5hJpUY12J0WjrvuuPwy3H6Q1sVw1Jg0GPYv-Ri2w&_sg%5B2%5D=78QgjNnIbPNAZnkI6r_aYAPeIgaRkNf9HWgaaIEEJxpoXtH0yxNqmpZnCgYKsRG3NuqZQzVWnxCFr2ZA.OcBE8_XXtyUof7SCcEgu9_yuhKMIoOcEhJDWimpgagrnL91sU2ef-d4dXa8P000yb4Suo7vNFxNmODoTstDhlQ&_iepl=)\n",
    "\n",
    "**Feladat:** Fig. 1 ábra reprodukálása különböző $\\alpha\\in\\{0,0.2,0.5,1,1.46,\\pi/2,2\\}$ és $R\\in\\{1,10,14\\}$paraméterekre\n"
   ]
  },
  {
   "cell_type": "markdown",
   "metadata": {},
   "source": [
    "### 6. 2D rendszerek kettős potenciálgödörrel: fázisportrék (numerikus szimuláció, 60 pont)\n",
    "\n",
    "[Sándor, B., & Gros, C. (2015). A versatile class of prototype dynamical systems for complex bifurcation cascades of limit cycles. Scientific Reports, 5, 12316.](https://arxiv.org/abs/1504.03167)\n",
    "\n",
    "**Feladat:** Fig. 1 és Fig. 3 ábrák reprodukálása különböző (instabil határciklusok nélkül)"
   ]
  },
  {
   "cell_type": "markdown",
   "metadata": {},
   "source": [
    "### 7. 4D rendszerek kettős potenciálgödörrel: attraktorok (numerikus szimuláció, 80 pont)\n",
    "\n",
    "[Sándor, B., & Gros, C. (2015). A versatile class of prototype dynamical systems for complex bifurcation cascades of limit cycles. Scientific Reports, 5, 12316.](https://arxiv.org/abs/1504.03167)\n",
    "\n",
    "**Feladat:** Fig. 4 ábra reprodukálása (instabil határciklusok nélkül)"
   ]
  },
  {
   "cell_type": "markdown",
   "metadata": {},
   "source": [
    "### 8. 4D mechanikai rendszerek kettős potenciálgödörrel: káosz (numerikus szimuláció, 100 pont)\n",
    "\n",
    "[Sándor, B., & Gros, C. (2015). A versatile class of prototype dynamical systems for complex bifurcation cascades of limit cycles. Scientific Reports, 5, 12316.](https://arxiv.org/abs/1504.03167.pdf)\n",
    "\n",
    "**Feladat:** Fig. 5 ábra bal alsó grafikonjának reprodukálása\n"
   ]
  },
  {
   "cell_type": "markdown",
   "metadata": {},
   "source": [
    "### 9. Robotkerék forgása: fázisportrék (numerikus szimuláció, 60 pont)\n",
    "\n",
    "[Kubandt, F., Nowak, M., Koglin, T., Gros, C., & Sándor, B. (2019). Embodied robots driven by self-organized environmental feedback. Adaptive Behavior, 105971231985562.](https://arxiv.org/pdf/1905.07153.pdf)\n",
    "\n",
    "**Feladat:** Fig. 8 ábra reprodukálása\n"
   ]
  },
  {
   "cell_type": "markdown",
   "metadata": {},
   "source": [
    "### 10. Rovarkitörés: bifurkációk (numerikus szimuláció, 60 pont)\n",
    "\n",
    "[Strogatz, S. H. (n.d.). Nonlinear dynamics and chaos : with applications to physics, biology, chemistry, and engineering](http://phys.ubbcluj.ro/~bulcsu.sandor/dinamikai-rendszerek-20192020-ef/)\n",
    "\n",
    "**Feladat:**  \n",
    "* bifurkációs diagram a függvény numerikus megoldásával  \n",
    "* bifurkációs diagram a stabil megoldások megkeresésével  "
   ]
  },
  {
   "cell_type": "markdown",
   "metadata": {},
   "source": [
    "### 11. Lorenz rendszer: bifurkációs diagram (numerikus szimuláció, 60 pont)\n",
    "\n",
    "[Wernecke, H., Sándor, B., & Gros, C. (2017). How to test for partially predictable chaos. Scientific Reports, 7(1), 1087.](https://arxiv.org/pdf/1605.05616.pdf)\n",
    "\n",
    "**Feladat:** Fig. 2 és Fig. 1(a) ábra reprodukálása"
   ]
  },
  {
   "cell_type": "markdown",
   "metadata": {},
   "source": [
    "### 12. Lorenz rendszer: káosz mutatók (numerikus szimuláció, 80 pont)\n",
    "\n",
    "[Wernecke, H., Sándor, B., & Gros, C. (2017). How to test for partially predictable chaos. Scientific Reports, 7(1), 1087.](https://arxiv.org/pdf/1605.05616.pdf)\n",
    "\n",
    "**Feladat:** Fig. 1 ábra reprodukálása"
   ]
  },
  {
   "cell_type": "markdown",
   "metadata": {},
   "source": [
    "### 13. Fázistér kontrakció: különböző programozási nyelvek (numerikus szimuláció, 100 pont)\n",
    "\n",
    "[Dénes Károly, SÁndor Bulcsú, dinren20192020ef #6. Feladatlap](https://nbviewer.jupyter.org/github/sbulcsu/dinren20192020ef/blob/master/feladatlap6/feladat_6.ipynb)\n",
    "\n",
    "**Feladat:** \n",
    "* \\#6. Feladatlap (f) alpontjának megoldása Julia és egy másik programozási nyelv segítségével  \n",
    "* szimulációs idők és az algoritmusok komplexitásának összehasonlítása"
   ]
  },
  {
   "cell_type": "markdown",
   "metadata": {},
   "source": [
    "### 14. Szinkronizáció nemautonóm mechanikai rendszerben: fázisportrék (numerikus szimuláció, 80 pont)\n",
    "\n",
    "[Davidova, L., Újvári, S., & Néda, Z. (2014). Sync or anti-sync-dynamical pattern selection in coupled self-sustained oscillator systems. In Journal of Physics: Conference Series (Vol. 510). Institute of Physics Publishing.](http://adatbank.transindex.ro/vendeg/htmlk/pdf12207.pdf)\n",
    "\n",
    "**Feladat:** \n",
    "* Fig. 4, 5 ábrák reprodukálása\n",
    "* nemautonóm rendszrekhez lásd a [Tutorial-t](https://docs.juliadiffeq.org/v6.8/tutorials/ode_example/)"
   ]
  },
  {
   "cell_type": "markdown",
   "metadata": {},
   "source": [
    "### 15. Szinkronizáció konzervatív mechanikai rendszerben: fázisportrék (numerikus szimuláció, 60 pont)\n",
    "\n",
    "[Davidova, L., Újvári, S., & Néda, Z. (2014). Sync or anti-sync-dynamical pattern selection in coupled self-sustained oscillator systems. In Journal of Physics: Conference Series (Vol. 510). Institute of Physics Publishing.](http://adatbank.transindex.ro/vendeg/htmlk/pdf12207.pdf)\n",
    "\n",
    "**Feladat:** \n",
    "* Fig. 2, 3 ábrák numerikus reprodukálása a (6) képlet felhasználása nélkül"
   ]
  },
  {
   "cell_type": "markdown",
   "metadata": {},
   "source": [
    "### 16. Gyertyalángok szinkronizációja: idősorok (numerikus szimuláció, 60 pont)\n",
    "\n",
    "[Kitahata, H., Taguchi, J., Nagayama, M., Sakurai, T., Ikura, Y., Osa, A., … Miike, H. (2009). Oscillation and Synchronization in the Combustion of Candles. The Journal of Physical Chemistry A, 113(29), 8164–8168.](https://pubs.acs.org/doi/pdf/10.1021/jp901487e)\n",
    "\n",
    "**Megjegyzés:** a cikk csak az egyetemről érhető el!\n",
    "\n",
    "**Feladat:** Fig. 5. (a)-(d), ábrák numerikus reprodukálása"
   ]
  },
  {
   "cell_type": "markdown",
   "metadata": {},
   "source": [
    "### 17. Robotkerék forgása: fázisportrék 2 (numerikus szimuláció, 60 pont)\n",
    "\n",
    "[Sándor, B., Nowak, M., Koglin, T., Martin, L., & Gros, C. (2018). Kick Control: Using the Attracting States Arising Within the Sensorimotor Loop of Self-Organized Robots as Motor Primitives. Frontiers in Neurorobotics, 12, 40.](https://arxiv.org/pdf/1806.09321.pdf)\n",
    "\n",
    "**Feladat:** Fig. 8 ábra reprodukálása"
   ]
  },
  {
   "cell_type": "markdown",
   "metadata": {},
   "source": [
    "### 18. Robotkerék forgása: kaotikus viselkedés (numerikus szimuláció, 80 pont)\n",
    "\n",
    "[Sándor, B., Nowak, M., Koglin, T., Martin, L., & Gros, C. (2018). Kick Control: Using the Attracting States Arising Within the Sensorimotor Loop of Self-Organized Robots as Motor Primitives. Frontiers in Neurorobotics, 12, 40.](https://arxiv.org/pdf/1806.09321.pdf)\n",
    "\n",
    "**Feladat:** Fig. 9 ábra reprodukálása"
   ]
  },
  {
   "cell_type": "markdown",
   "metadata": {},
   "source": [
    "### 19. Csúszó-tapadó súrlódás: fázisportré  (numerikus szimuláció, 80 pont)\n",
    "\n",
    "[Sándor, B., Járai-Szabó, F., Tél, T., & Néda, Z. (2014). Káosz a futószalagon. Fizikai Szemle, 64, 40–45.](http://fizikaiszemle.hu/archivum/fsz1402/SandorB_NedaZ_Jarai-SzaboF_TelT.pdf)\n",
    "\n",
    "**Feladat:** \n",
    "* Fig. 5 ábra reprodukálása\n",
    "* nemfolytonos rendszerekhez lásd a [Tutorial-t](https://docs.juliadiffeq.org/latest/features/callback_functions/)"
   ]
  },
  {
   "cell_type": "markdown",
   "metadata": {},
   "source": [
    "### 20. Csúszó-tapadó súrlódás: természetes eloszlás (numerikus szimuláció, 100 pont)\n",
    "\n",
    "[Sándor, B., Járai-Szabó, F., Tél, T., & Néda, Z. (2013). Chaos on the conveyor belt. Phys. Rev. E, 87(4), 42920.](https://arxiv.org/pdf/1304.3667.pdf)\n",
    "\n",
    "**Feladat:** \n",
    "* Fig. 10 ábra reprodukálása\n",
    "* nemfolytonos rendszerekhez lásd a [Tutorial-t](https://docs.juliadiffeq.org/latest/features/callback_functions/)"
   ]
  },
  {
   "cell_type": "markdown",
   "metadata": {},
   "source": [
    "### 21. Mágneses inga: vonzási tartományok  (numerikus szimuláció, 80 pont)\n",
    "\n",
    "[Motter, A. E., Gruiz, M., Károlyi, G., & Tél, T. (2013). Doubly Transient Chaos: Generic Form of Chaos in Autonomous Dissipative Systems. Physical Review Letters, 111(19), 194101.](https://arxiv.org/pdf/1310.4209.pdf)\n",
    "\n",
    "**Feladat:** Fig. 1 ábra felbontású reprodukálása\n"
   ]
  },
  {
   "cell_type": "markdown",
   "metadata": {},
   "source": [
    "### 22. Káosz művészete: természetes eloszlás  (numerikus szimuláció, 80 pont)\n",
    "\n",
    "[Gruiz Márton, Tél Tamás: Kaotikus dinamika, 2002, Universitas Kiadó](http://phys.ubbcluj.ro/~bulcsu.sandor/dinamikai-rendszerek-20192020-ef/)\n",
    "\n",
    "**Feladat:** könyv első és hátsó botítóképének reprodukálása"
   ]
  },
  {
   "cell_type": "markdown",
   "metadata": {},
   "source": [
    "### 23. Káosz művészete: természetes eloszlás 2 (numerikus szimuláció, 80 pont)\n",
    "\n",
    "[Wernecke, H. C. (2019) New aspects of attractors in dynamical systems, Goethe University Frankfurt (phd thesis)](http://hendrik.wernecke.cc/downloads/phdthesis.pdf)\n",
    "\n",
    "**Feladat:** a dolgozat első botítóképének reprodukálása"
   ]
  }
 ],
 "metadata": {
  "kernelspec": {
   "display_name": "Julia 1.1.1",
   "language": "julia",
   "name": "julia-1.1"
  },
  "language_info": {
   "file_extension": ".jl",
   "mimetype": "application/julia",
   "name": "julia",
   "version": "1.1.1"
  }
 },
 "nbformat": 4,
 "nbformat_minor": 2
}
