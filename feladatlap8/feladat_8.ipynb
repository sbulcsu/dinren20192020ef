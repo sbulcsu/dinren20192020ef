{
 "cells": [
  {
   "cell_type": "markdown",
   "metadata": {},
   "source": [
    "# Dinamikai rendszerek 2019/2020 EF\n",
    "\n",
    "\n",
    "# #8 Feladatlap\n",
    "------\n",
    "\n",
    "## Külalak, formázás  (10 pont)  \n",
    "\n",
    "## 8.1 Feladat (40 pont)\n",
    "----"
   ]
  },
  {
   "cell_type": "markdown",
   "metadata": {},
   "source": [
    "Adott az alábbi kétdimenziós dinamikai rendszer:\n",
    "$$\n",
    "\\begin{align}\n",
    "\\dot{x}&=\\sin y\\\\\n",
    "\\dot{y}&=x\\cos y.\n",
    "\\end{align}\n",
    "$$\n",
    "\n",
    "\n",
    "**a)** Ábrázoljuk a rendszer fázisportéját 400 tetszőleges kezdetiértéket felhasználva a $[-2,+2]\\times[-4,+4]$ intervallumokból! (*10 pont*)"
   ]
  },
  {
   "cell_type": "code",
   "execution_count": null,
   "metadata": {},
   "outputs": [],
   "source": []
  },
  {
   "cell_type": "markdown",
   "metadata": {},
   "source": [
    "**b)** Bizonyítsuk be analitikusan, hogy a rendszerben nem létezenek zárt görbék, igazolva, hogy a rendszer potenciálrendszer! (*10 pont*)"
   ]
  },
  {
   "cell_type": "code",
   "execution_count": null,
   "metadata": {},
   "outputs": [],
   "source": []
  },
  {
   "cell_type": "markdown",
   "metadata": {},
   "source": [
    "**c)** Ábrázoljuk a $V(x,y)$ potenciálfelületet 3D-ben a $[-8,+8]\\times[-8,+8]$ tartományon! (*10 pont*)"
   ]
  },
  {
   "cell_type": "code",
   "execution_count": null,
   "metadata": {},
   "outputs": [],
   "source": []
  },
  {
   "cell_type": "markdown",
   "metadata": {},
   "source": [
    "**d)** Ábrázoljuk a $V(x,y)$ potenciál szintgörbéit a $[-4,+4]\\times[-4,+4]$ tartományon! (*10 pont*)   \n",
    "(*TIPP*:`contour` függvény) "
   ]
  },
  {
   "cell_type": "code",
   "execution_count": null,
   "metadata": {},
   "outputs": [],
   "source": []
  },
  {
   "cell_type": "markdown",
   "metadata": {},
   "source": [
    "------\n",
    "------"
   ]
  },
  {
   "cell_type": "markdown",
   "metadata": {},
   "source": [
    "## 8.2 Feladat (50 pont)\n",
    "----"
   ]
  },
  {
   "cell_type": "markdown",
   "metadata": {},
   "source": [
    "Adott az alábbi kétdimenziós dinamikai rendszer:\n",
    "$$\n",
    "\\begin{align}\n",
    "\\dot{x}&=x(1-x^2-y^2)+\\mu\\frac{x^2}{\\sqrt{x^2+y^2}}-y\\\\\n",
    "\\dot{y}&=xy(\\mu{\\sqrt{x^2+y^2}}-x)+x+y-y^3,\n",
    "\\end{align}\n",
    "$$\n",
    "ahol $\\mu\\in(0,1)$ egy természetes szám. A Poincaré-Bendixson tétel alapján a rendszernek van egy stabil határciklusa az $r_{min}<\\sqrt{1-\\mu}$ és az $r_{max}<\\sqrt{1+\\mu}$ origótól mért távolságok között.\n",
    "\n",
    "\n",
    "**a)** Ábrázoljuk a rendszer fázisportéját 100 tetszőleges kezdetiértéket felhasználva a $[-2,+2]\\times[-2,+2]$ intervallumból! (*10 pont*)"
   ]
  },
  {
   "cell_type": "code",
   "execution_count": null,
   "metadata": {},
   "outputs": [],
   "source": []
  },
  {
   "cell_type": "markdown",
   "metadata": {},
   "source": [
    "**b)** Ábrázoljuk a határciklust! (*10 pont*)  \n",
    "(*TIPP*: ábrázoljuk egy trajektória azon részét, amely már elég közel van a zárt görbéhez)\n"
   ]
  },
  {
   "cell_type": "code",
   "execution_count": null,
   "metadata": {},
   "outputs": [],
   "source": []
  },
  {
   "cell_type": "markdown",
   "metadata": {},
   "source": [
    "**c)** Ábrázoljuk az $r_{min}$ és $r_{max}$ gyűrűket! (*10 pont*)"
   ]
  },
  {
   "cell_type": "code",
   "execution_count": null,
   "metadata": {},
   "outputs": [],
   "source": []
  },
  {
   "cell_type": "markdown",
   "metadata": {},
   "source": [
    "**d)** Ábrázoljuk a megadott doménium határain ki- és belépő rövid trajektória-szakaszokat! (*20 pont*)  \n",
    "(*TIPP*: használjuk a határokhoz közeli kezdetiállapotokat, legyen rövid a `tspan` és tegyünk nyilakat a trajektóriákra)"
   ]
  },
  {
   "cell_type": "code",
   "execution_count": null,
   "metadata": {},
   "outputs": [],
   "source": []
  }
 ],
 "metadata": {
  "kernelspec": {
   "display_name": "Julia 1.0.5",
   "language": "julia",
   "name": "julia-1.0"
  },
  "language_info": {
   "file_extension": ".jl",
   "mimetype": "application/julia",
   "name": "julia",
   "version": "1.0.5"
  }
 },
 "nbformat": 4,
 "nbformat_minor": 2
}
