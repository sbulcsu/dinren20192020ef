{
 "cells": [
  {
   "cell_type": "markdown",
   "metadata": {},
   "source": [
    "# Dinamikai rendszerek 2019/2020 EF"
   ]
  },
  {
   "cell_type": "markdown",
   "metadata": {},
   "source": [
    "# #2 Feladatlap\n",
    "------"
   ]
  },
  {
   "cell_type": "markdown",
   "metadata": {},
   "source": [
    "## Külalak, formázás  (10 pont)\n",
    "## 2.1 Feladat  (30 pont)\n",
    "------"
   ]
  },
  {
   "cell_type": "markdown",
   "metadata": {},
   "source": [
    "A következő példákon keresztül tanulmányozzuk az egydimenziós dinamikai rendszerekben lejátszódó bifurkációkat! \n",
    "\n",
    "\n",
    "**a)** Határozzuk meg analitikusan a $\\dot{x}=rx+x^3$ rendszer fixpontjait és készítsük el a bifurkációs diagrammot az $r$ paraméter függvényében, szaggatott illetve folytonos vonallal jelölve a fixpontok stabilitását!  \n",
    "**b)** Addott a következő dinamikai rendszer: $\\dot{x}=rx+x^3-x^5$. Miután megkerestük a rendszer fixpontjait az $r$ paraméter függvényében, ábrázoljuk az $\\dot{x}$ függvényt különböző $r$ értékre úgy, szem előtt tartva a fixpontok számának változását!   \n",
    "**c)** Készítsük el a **b)** alpontban megadott rendszer bifurkációs diagrammját!"
   ]
  },
  {
   "cell_type": "markdown",
   "metadata": {},
   "source": [
    "**a)** Az $\\dot{x}=rx+x^3$ rendszer bifurkációs diagrammja  (*10 pont*):\n",
    "\n",
    "(*TIPP*: használd a `linestyle= :dash` parancsot a `plot` függvényben az instabil fixpontok esetén)"
   ]
  },
  {
   "cell_type": "code",
   "execution_count": null,
   "metadata": {},
   "outputs": [],
   "source": []
  },
  {
   "cell_type": "markdown",
   "metadata": {},
   "source": [
    "**b)** Az $\\dot{x}=rx+x^3-x^5$ rendszer fázisportréja (*10 pont*):\n",
    "\n",
    "(*TIPP*: a `plot!` függvényt használva több görbét is ábrázolhatunk egy grafikonon)"
   ]
  },
  {
   "cell_type": "code",
   "execution_count": null,
   "metadata": {},
   "outputs": [],
   "source": []
  },
  {
   "cell_type": "markdown",
   "metadata": {},
   "source": [
    "**c)** Az $\\dot{x}=rx+x^3-x^5$ rendszer bifurkációs diagrammja (*10 pont*):"
   ]
  },
  {
   "cell_type": "code",
   "execution_count": null,
   "metadata": {},
   "outputs": [],
   "source": []
  },
  {
   "cell_type": "markdown",
   "metadata": {},
   "source": [
    "-----\n",
    "-----"
   ]
  },
  {
   "cell_type": "markdown",
   "metadata": {},
   "source": [
    "## 2.2 Feladat (30 pont)\n",
    "----"
   ]
  },
  {
   "cell_type": "markdown",
   "metadata": {},
   "source": [
    "Adott az $\\dot{x}=\\sin (x)$ közönséges differenciálegyenlet. \n",
    "\n",
    "**a)** Az Euler-módszer segítségével oldjuk meg numerikusan a differenciálegyenletet egy tetszőleges kezdeti feltétellel $t_0=0$-tól $t_1=5$-ig.  \n",
    "**b)** Ábrázoljuk a kapott $x(t)$ idősort!  \n",
    "**c)** Oldjuk meg a differenciálegyenletet 50 véletlenszerű, $-4\\pi$ és $4\\pi$ közötti kezdeti állapotokra és ábrázoljuk a kapott idősorokat egy grafikonon!"
   ]
  },
  {
   "cell_type": "markdown",
   "metadata": {},
   "source": [
    "**a)** Az Euler-módszer implementációja és az egyenlet megoldása (*10 pont*):"
   ]
  },
  {
   "cell_type": "code",
   "execution_count": null,
   "metadata": {},
   "outputs": [],
   "source": []
  },
  {
   "cell_type": "markdown",
   "metadata": {},
   "source": [
    "**b)** Az $x(t)$ ábrázolása (*5 pont*):"
   ]
  },
  {
   "cell_type": "code",
   "execution_count": null,
   "metadata": {},
   "outputs": [],
   "source": []
  },
  {
   "cell_type": "markdown",
   "metadata": {},
   "source": [
    "**c)** A differenciálegyenlet megoldása több kezdetiállapotra és az idősorok ábrázolása (*15 pont*):\n",
    "\n",
    "(*TIPP*: a görbék színe lehetőleg legyen azonos (`linecolor` opció) és nincs szükség `legend`-re sem)"
   ]
  },
  {
   "cell_type": "code",
   "execution_count": null,
   "metadata": {},
   "outputs": [],
   "source": []
  },
  {
   "cell_type": "markdown",
   "metadata": {},
   "source": [
    "-----\n",
    "-----"
   ]
  },
  {
   "cell_type": "markdown",
   "metadata": {},
   "source": [
    "## 2.3 Feladat (30 pont)\n",
    "----"
   ]
  },
  {
   "cell_type": "markdown",
   "metadata": {},
   "source": [
    "Adott az $\\dot{x}=r+x-\\ln(1+x)$ egydimenziós dinamikai rendszer. A rendszerben nyeregpont bifurkáció figyelhető meg az $r=0$ pontban. \n",
    "\n",
    "**a)** Ábrázoljuk a rendszer fázisportréját három esetben: $r<0,~r=0,~r>0$! Hány fixpont van a különböző esetekben?  \n",
    "**b)** Felhasználva az Euler-módszert oldjuk meg a differenciálegyenletet 50 véletlenszerű kezdeti állapotra a $(-1,3]$ intervallumból $r<0$ esetén! Ábrázoljuk az idősorokat egy grafikonon!  \n",
    "**c)** Ismételjük meg a **b)** alpontban leírtakat az $r>0$ esetre!"
   ]
  },
  {
   "cell_type": "markdown",
   "metadata": {},
   "source": [
    "**a)** A rendszer fázsiportréja (*10 pont*):"
   ]
  },
  {
   "cell_type": "code",
   "execution_count": null,
   "metadata": {},
   "outputs": [],
   "source": []
  },
  {
   "cell_type": "markdown",
   "metadata": {},
   "source": [
    "**b)** A differenciálegyenlet megoldása és az idősorok ábrázolása az $r<0$ esetben (*10 pont*):"
   ]
  },
  {
   "cell_type": "code",
   "execution_count": null,
   "metadata": {},
   "outputs": [],
   "source": []
  },
  {
   "cell_type": "markdown",
   "metadata": {},
   "source": [
    "**c)** A differenciálegyenlet megoldása és az idősorok ábrázolása az $r>0$ esetben (*10 pont*):"
   ]
  },
  {
   "cell_type": "code",
   "execution_count": null,
   "metadata": {},
   "outputs": [],
   "source": []
  }
 ],
 "metadata": {
  "kernelspec": {
   "display_name": "Julia 1.0.5",
   "language": "julia",
   "name": "julia-1.0"
  },
  "language_info": {
   "file_extension": ".jl",
   "mimetype": "application/julia",
   "name": "julia",
   "version": "1.0.5"
  }
 },
 "nbformat": 4,
 "nbformat_minor": 2
}
